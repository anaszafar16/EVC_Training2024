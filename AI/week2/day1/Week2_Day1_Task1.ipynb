{
  "nbformat": 4,
  "nbformat_minor": 0,
  "metadata": {
    "colab": {
      "provenance": []
    },
    "kernelspec": {
      "name": "python3",
      "display_name": "Python 3"
    },
    "language_info": {
      "name": "python"
    }
  },
  "cells": [
    {
      "cell_type": "markdown",
      "source": [
        "# Task1: Data Cleaning and Preprocessing\n",
        "### Dataset Description:\n",
        "This Online Retail II data set contains all the transactions occurring for a UK-based and registered, non-store online retail between 01/12/2009 and 09/12/2011.The company mainly sells unique all-occasion gift-ware. Many customers of the company are wholesalers.\n",
        "\n",
        "### Task Overview:\n",
        "Your task is to perform the following operations:\n",
        "\n",
        "### Data Loading: Load the dataset (https://archive.ics.uci.edu/dataset/502/online+retail+ii) into a Pandas DataFrame.\n",
        "\n",
        "### Initial Exploration:\n",
        "\n",
        "Check for missing values and handle them appropriately\n",
        "Explore basic statistics (mean, median, min, max, etc.) for numerical columns.\n",
        "Explore categorical variables (unique values, value counts).\n",
        "\n",
        "### Data Cleaning:\n",
        "\n",
        "Handle duplicate records if any.\n",
        "Clean data inconsistencies, such as inconsistent capitalization or formatting issues in categorical columns.\n",
        "Remove outliers in numerical columns if necessary (using statistical methods or domain knowledge).\n",
        "\n",
        "\n",
        "### Data Preparation:\n",
        "\n",
        "Split the dataset into training and testing sets for machine learning models.\n",
        "\n",
        "### Visualization:\n",
        "\n",
        "Visualize relationships between features (e.g., correlation matrix, scatter plots).\n",
        "\n",
        "\n",
        "\\\\\n",
        "Tutorials:\n",
        "\n",
        "Numpy: https://numpy.org/doc/stable/user/absolute_beginners.html\n",
        "\n",
        "Pandas: https://pandas.pydata.org/pandas-docs/stable/user_guide/10min.html\n",
        "\n",
        "Scikit_learn: https://www.tutorialspoint.com/scikit_learn/index.htm"
      ],
      "metadata": {
        "id": "rMCSIV9W8Cv2"
      }
    },
    {
      "cell_type": "markdown",
      "source": [
        "## Below is the best scenario for this task"
      ],
      "metadata": {
        "id": "kqCfaksG0Jgl"
      }
    },
    {
      "cell_type": "markdown",
      "source": [
        "## <div align=center><b>Analyis of a UK-based online retail transactions </b></div>\n",
        "<div align=center>Occurring between 01/12/2009 and 09/12/2011</div>\n",
        "\n",
        "<a href=\"https://www.kaggle.com/datasets/mashlyn/online-retail-ii-uci\">https://www.kaggle.com/datasets/mashlyn/online-retail-ii-uci</a>\n",
        "\n",
        "<a id='intro'></a>\n",
        "<hr>"
      ],
      "metadata": {
        "papermill": {
          "duration": 0.01258,
          "end_time": "2024-06-10T11:58:34.264462",
          "exception": false,
          "start_time": "2024-06-10T11:58:34.251882",
          "status": "completed"
        },
        "tags": [],
        "id": "2ocdiBunxP0D"
      }
    },
    {
      "cell_type": "markdown",
      "source": [
        "**Dear Online Retail company representative,**\n",
        "\n",
        "The follwing report is written to inform you about the analysis results condocted on the data collected between 01/12/2009 and 09/12/2011 from your UK-based online retail transactions.\n",
        "\n",
        "In this analysis report, several key aspects based on your requirements provided earlier are addressed:\n",
        "\n",
        "1. **Top 5 invoices based on their Total sales**\n",
        "2. **Top 5 customers based on their Total buying**\n",
        "3. **Top 5 Selling Items during that Period**\n",
        "4. **Top 20 Pairs, Most Frequently Purchased Item Pairs by Customers**\n",
        "5. **Recommendations for a New Promotion Targeting Items with Low Sales Volume**\n",
        "\n",
        "Please note that this report follows the follwing structure, and you are able to get back up within the notebook.\n",
        "\n",
        "- Your question and its corresponding number.\n",
        "- Code cell(s) implementing the necessary calculations and data manipulations. (as a non-technincal reveiwer you can look at the results and the onterpretation)\n",
        "- Markdown cell presenting the results obtained and providing interpretation.\n",
        "- You can also check the table of contents, list of figures, and list of tables.\n",
        "\n",
        "For your information, a random sample of 200k rows from the dataset using (1190652) as the seed to ensure reproducibility.\n",
        "\n",
        "Insights of this analysis will help in strategic decisions for optimizing sales and customer satisfaction.\n",
        "\n",
        "Should you have any further queries or require additional clarifications, please do not hesitate to reach out.\n",
        "\n",
        "Best regards,\n",
        "\n",
        "<i>Sondos Aabed,</i>\n",
        "\n",
        "<hr>"
      ],
      "metadata": {
        "papermill": {
          "duration": 0.01167,
          "end_time": "2024-06-10T11:58:34.288703",
          "exception": false,
          "start_time": "2024-06-10T11:58:34.277033",
          "status": "completed"
        },
        "tags": [],
        "id": "l6M37rGjxP0F"
      }
    },
    {
      "cell_type": "markdown",
      "source": [
        "## <b>Table of Contents</b>\n",
        "- <b>Introduction</b>\n",
        "- <b>Objectives</b>\n",
        "- <b>Software Listings</b>\n",
        "- <b>Dataset Analysis</b>\n",
        "    - Load and Sample Data\n",
        "    - Dataset Initial Exploration\n",
        "    - Date and total price handling\n",
        "    - Visualization\n",
        "    - Queries\n",
        "- <b>Conclusion</b>\n",
        "- <b>Refrences</b>\n",
        "\n",
        "## <b>List of Figures</b>\n",
        "- Figure 1: Total Sales and Canceled Invoices\n",
        "- Figure 2: Number of Invoices Over Months\n",
        "- Figure 3: Word Cloud of Product Descriptions\n",
        "\n",
        "## <b>List of Tables</b>\n",
        "- Table 0: Attributes Information\n",
        "- Table 1: Software Litening\n",
        "- Table 2: Standard Error of Means for numerical columns\n",
        "- Table 3: Dataset Head\n",
        "- Table 4: Dataset Tail\n",
        "- Table 5: Dataset Numerical Describtion\n",
        "- Table 6: Missing Values By Percentage\n",
        "- Table 7: Dataset Columns Data types\n",
        "- Table 8: Number of uniques in the datasets\n",
        "- Table 9: Top 5 invoices\n",
        "- Table 10: Top 5 customers\n",
        "<hr>"
      ],
      "metadata": {
        "papermill": {
          "duration": 0.01155,
          "end_time": "2024-06-10T11:58:34.312042",
          "exception": false,
          "start_time": "2024-06-10T11:58:34.300492",
          "status": "completed"
        },
        "tags": [],
        "id": "m-ZWtURTxP0G"
      }
    },
    {
      "cell_type": "markdown",
      "source": [
        "## <b>Introduction</b>\n",
        "\n",
        "Understanding customer behavior and transactional patterns in this evolving era of online retail, is essential for driving strategic decision-making and optimizing sales strategies. This analysis notebook to explore UK-based online retail transactions from December 1st, 2009, to December 9th, 2011. The dataset has all-occasion gift-ware sales, providing consumer preferences, purchasing habits, and market trends within the specified timeframe.\n",
        "\n",
        "<b>Table 0:</b> Attribute Information: [3]\n",
        "\n",
        "|Attribute |Data Type| Describtion |\n",
        "|-----|------|------|\n",
        "|InvoiceNo|Nominal|A 6-digit integral number uniquely assigned to each transaction. If this code starts with the letter 'c', it indicates a cancellation.|\n",
        "|StockCode|Nominal|A 5-digit integral number uniquely assigned to each distinct product|\n",
        "|Description|Nominal|Product (item) name|\n",
        "|Quantity|Numeric|The quantities of each product (item) per transaction|\n",
        "|InvoiceDate|Numeric|The day and time when a transaction was generated|\n",
        "|UnitPrice|Numeric|Product price per unit in sterling (Â£)|\n",
        "|CustomerID|Nominal|A 5-digit integral number uniquely assigned to each customer|\n",
        "|Country|Nominal|The name of the country where a customer resides|\n",
        "\n",
        "<hr>"
      ],
      "metadata": {
        "papermill": {
          "duration": 0.01158,
          "end_time": "2024-06-10T11:58:34.335535",
          "exception": false,
          "start_time": "2024-06-10T11:58:34.323955",
          "status": "completed"
        },
        "tags": [],
        "id": "tUlRR0B0xP0G"
      }
    },
    {
      "cell_type": "markdown",
      "source": [
        "## <b>Objectives</b>\n",
        "[Back](#intro)\n",
        "\n",
        "- Randomly sample 200k rows from the dataset.\n",
        "- Explore the dataset.\n",
        "- Get insights from queries:\n",
        "    - Get total sales per invoice and identify the top 5 invoices.\n",
        "    - Compute total sales per customer and list the top 5 customers.\n",
        "    - Identify the top 5 selling items during the specified period.\n",
        "    - Determine the most frequently purchased item pairs by customers and display the top 20 pairs.\n",
        "    - Recommend 10 pairs of items for a new promotion targeting items with low sales volume.\n",
        "    \n",
        "<hr>"
      ],
      "metadata": {
        "papermill": {
          "duration": 0.014914,
          "end_time": "2024-06-10T11:58:34.363052",
          "exception": false,
          "start_time": "2024-06-10T11:58:34.348138",
          "status": "completed"
        },
        "tags": [],
        "id": "S6j-Ud7CxP0H"
      }
    },
    {
      "cell_type": "markdown",
      "source": [
        "## <b>Software Listing</b>\n",
        "[Back](#intro)\n",
        "\n",
        "The followning table shows the software tools and versions used in this experimnet.\n",
        "\n",
        "Table 1: Software Listenings\n",
        "\n",
        "|Tool | Version |\n",
        "|-----|---------|\n",
        "|Python|3.12.2|\n",
        "|Numpy|1.26.4|\n",
        "|Matplotlib|3.8.2|\n",
        "|Pandas|2.2.1|\n",
        "|Visual Studio Code |Updated|\n",
        "|Git & github|[Repo.](https://github.com/sondosaabed/SP.TOP-Data-Science-and-Analytics/blob/main/Assignments/A4/1190652_A4.ipynb)|\n",
        "\n",
        "<hr>"
      ],
      "metadata": {
        "papermill": {
          "duration": 0.011537,
          "end_time": "2024-06-10T11:58:34.386517",
          "exception": false,
          "start_time": "2024-06-10T11:58:34.37498",
          "status": "completed"
        },
        "tags": [],
        "id": "ayOgtTnHxP0I"
      }
    },
    {
      "cell_type": "markdown",
      "source": [
        "## <b>Dataset Analysis</b>\n",
        "[Back](#intro)"
      ],
      "metadata": {
        "papermill": {
          "duration": 0.011559,
          "end_time": "2024-06-10T11:58:34.409947",
          "exception": false,
          "start_time": "2024-06-10T11:58:34.398388",
          "status": "completed"
        },
        "tags": [],
        "id": "EwAcKZTlxP0J"
      }
    },
    {
      "cell_type": "markdown",
      "source": [
        "- Neccessary Imports"
      ],
      "metadata": {
        "papermill": {
          "duration": 0.011468,
          "end_time": "2024-06-10T11:58:34.433144",
          "exception": false,
          "start_time": "2024-06-10T11:58:34.421676",
          "status": "completed"
        },
        "tags": [],
        "id": "YbowXUe6xP0J"
      }
    },
    {
      "cell_type": "code",
      "source": [
        "import pandas as pd\n",
        "import numpy as np\n",
        "import matplotlib.pyplot as plt\n",
        "from IPython.display import display\n",
        "import seaborn as sns\n",
        "from wordcloud import WordCloud"
      ],
      "metadata": {
        "execution": {
          "iopub.execute_input": "2024-06-10T11:58:34.459113Z",
          "iopub.status.busy": "2024-06-10T11:58:34.458692Z",
          "iopub.status.idle": "2024-06-10T11:58:36.826484Z",
          "shell.execute_reply": "2024-06-10T11:58:36.825299Z"
        },
        "papermill": {
          "duration": 2.383666,
          "end_time": "2024-06-10T11:58:36.829021",
          "exception": false,
          "start_time": "2024-06-10T11:58:34.445355",
          "status": "completed"
        },
        "tags": [],
        "id": "b5-Fn4_-xP0K"
      },
      "execution_count": null,
      "outputs": []
    },
    {
      "cell_type": "markdown",
      "source": [
        "><b>Loading Data and Sampling</b>"
      ],
      "metadata": {
        "papermill": {
          "duration": 0.012378,
          "end_time": "2024-06-10T11:58:36.853601",
          "exception": false,
          "start_time": "2024-06-10T11:58:36.841223",
          "status": "completed"
        },
        "tags": [],
        "id": "LMpbV-8PxP0K"
      }
    },
    {
      "cell_type": "markdown",
      "source": [
        "- Read a 200k sample with 1190652 random seed, and calculate sample error"
      ],
      "metadata": {
        "papermill": {
          "duration": 0.011935,
          "end_time": "2024-06-10T11:58:36.877621",
          "exception": false,
          "start_time": "2024-06-10T11:58:36.865686",
          "status": "completed"
        },
        "tags": [],
        "id": "Q2LMYXOaxP0L"
      }
    },
    {
      "cell_type": "code",
      "source": [
        "data_path = '/content/online_retail_II.xlsx'"
      ],
      "metadata": {
        "id": "Xs-5tjcyyPh9"
      },
      "execution_count": null,
      "outputs": []
    },
    {
      "cell_type": "code",
      "source": [
        "def read_sample(sample_size = 200000, path=data_path, seed = 1190652):\n",
        "    \"\"\"\n",
        "    Read a csv file into dataframe and take a sample\n",
        "    Args:\n",
        "        path (str): the path of the dataset takes a deafult value (relative path)\n",
        "        seed (int): the seed for randomness so each time it have the same random selcetd\n",
        "    Returns:\n",
        "        sample (pd.Dataframe): sample taken from the read df with specific seed\n",
        "    \"\"\"\n",
        "    df = pd.read_csv(path)\n",
        "    sample = df.sample(sample_size, random_state=seed)\n",
        "    return df, sample"
      ],
      "metadata": {
        "execution": {
          "iopub.execute_input": "2024-06-10T11:58:36.903753Z",
          "iopub.status.busy": "2024-06-10T11:58:36.902803Z",
          "iopub.status.idle": "2024-06-10T11:58:36.909339Z",
          "shell.execute_reply": "2024-06-10T11:58:36.908186Z"
        },
        "papermill": {
          "duration": 0.022069,
          "end_time": "2024-06-10T11:58:36.911672",
          "exception": false,
          "start_time": "2024-06-10T11:58:36.889603",
          "status": "completed"
        },
        "tags": [],
        "id": "PiFv0pQnxP0L"
      },
      "execution_count": null,
      "outputs": []
    },
    {
      "cell_type": "code",
      "source": [
        "df, sample = read_sample()\n",
        "sem = pd.DataFrame(sample.sem(numeric_only= True), columns=['SEM'])\n",
        "print(\"Table 2: Standard Error of Means for numerical columns:\")\n",
        "display(sem)"
      ],
      "metadata": {
        "execution": {
          "iopub.execute_input": "2024-06-10T11:58:36.937743Z",
          "iopub.status.busy": "2024-06-10T11:58:36.936935Z",
          "iopub.status.idle": "2024-06-10T11:58:39.848624Z",
          "shell.execute_reply": "2024-06-10T11:58:39.847307Z"
        },
        "papermill": {
          "duration": 2.927459,
          "end_time": "2024-06-10T11:58:39.851239",
          "exception": false,
          "start_time": "2024-06-10T11:58:36.92378",
          "status": "completed"
        },
        "tags": [],
        "id": "wv9BPEboxP0M"
      },
      "execution_count": null,
      "outputs": []
    },
    {
      "cell_type": "markdown",
      "source": [
        "***Interpretaion***\n",
        "\n",
        "A sample of 200k is taken from 1,067,371 population. To quantize how accurate the sample represnts the population the standard error of means measurment is taken. For the Quantity Column the SEM is 0.413771 and it is relativly low and it is accepted. As for the Price coulmn it has 0.287015 SEM and it is relativly low and accepted. Finalyy the Customer ID column (the customer ID has unique values) this is the highest SEM it's value is 4.313394 this might affect the for example (loyalty analysis) and personalized marketing.\n",
        "\n",
        "> This might not be the best way to get Top 5 cutomers and Top 5 items, hence some queries will be called on the whole population.\n"
      ],
      "metadata": {
        "papermill": {
          "duration": 0.012965,
          "end_time": "2024-06-10T11:58:39.878014",
          "exception": false,
          "start_time": "2024-06-10T11:58:39.865049",
          "status": "completed"
        },
        "tags": [],
        "id": "U8nO7KOxxP0M"
      }
    },
    {
      "cell_type": "markdown",
      "source": [
        "> <b>Dataset Exploration</b>"
      ],
      "metadata": {
        "papermill": {
          "duration": 0.012082,
          "end_time": "2024-06-10T11:58:39.902607",
          "exception": false,
          "start_time": "2024-06-10T11:58:39.890525",
          "status": "completed"
        },
        "tags": [],
        "id": "Gdx5ZKBExP0M"
      }
    },
    {
      "cell_type": "markdown",
      "source": [
        "- Get the missing Values percentages"
      ],
      "metadata": {
        "papermill": {
          "duration": 0.012193,
          "end_time": "2024-06-10T11:58:39.927141",
          "exception": false,
          "start_time": "2024-06-10T11:58:39.914948",
          "status": "completed"
        },
        "tags": [],
        "id": "sH4j1ziPxP0M"
      }
    },
    {
      "cell_type": "code",
      "source": [
        "def missing_values(df):\n",
        "    \"\"\"\n",
        "    This is to get the percetages of missing data\n",
        "    Args:\n",
        "        df (pd.Dataframe): contains the data\n",
        "    Returns:\n",
        "        missing_percetanges(pd.Dataframe): contains Column,\tCounts, and\tPercentage\n",
        "            of the missing values for eah colmn\n",
        "    \"\"\"\n",
        "    missing_count = df.isnull().sum()\n",
        "    missing_percetanges = pd.DataFrame({\n",
        "        'Column': missing_count.index,\n",
        "        'Counts': missing_count.values,\n",
        "        'Percentage': missing_count.values / len(df) * 100\n",
        "    })\n",
        "    return  missing_percetanges"
      ],
      "metadata": {
        "execution": {
          "iopub.execute_input": "2024-06-10T11:58:39.953552Z",
          "iopub.status.busy": "2024-06-10T11:58:39.953152Z",
          "iopub.status.idle": "2024-06-10T11:58:39.959753Z",
          "shell.execute_reply": "2024-06-10T11:58:39.958435Z"
        },
        "papermill": {
          "duration": 0.022979,
          "end_time": "2024-06-10T11:58:39.962482",
          "exception": false,
          "start_time": "2024-06-10T11:58:39.939503",
          "status": "completed"
        },
        "tags": [],
        "id": "2T58y-WQxP0M"
      },
      "execution_count": null,
      "outputs": []
    },
    {
      "cell_type": "markdown",
      "source": [
        "- Explore the data including: head, tail, number of uniques, number of NA, statistical describtion for numerical, and data types"
      ],
      "metadata": {
        "papermill": {
          "duration": 0.012363,
          "end_time": "2024-06-10T11:58:39.987554",
          "exception": false,
          "start_time": "2024-06-10T11:58:39.975191",
          "status": "completed"
        },
        "tags": [],
        "id": "OfvobQqoxP0M"
      }
    },
    {
      "cell_type": "code",
      "source": [
        "def explore_sample(sample):\n",
        "    \"\"\"\n",
        "    Exploring a dataset sample\n",
        "    Args:\n",
        "        sample (pd.Dataframe): the dataset sample to explore.\n",
        "    Returns:\n",
        "        results (dict): containing results of each exploration with the title as key\n",
        "    \"\"\"\n",
        "    head = pd.DataFrame(sample.head())\n",
        "    tail = pd.DataFrame(sample.tail())\n",
        "    nunique = pd.DataFrame(sample.nunique(), columns=[\"#_of_Unique\"])\n",
        "    describe = pd.DataFrame(sample.describe())\n",
        "    dtypes =  pd.DataFrame(sample.dtypes, columns=[\"Datatype\"])\n",
        "    results = {\n",
        "        'Table 3: Dataset Head:':head,\n",
        "        'Table 4: Dataset Tail:':tail,\n",
        "        'Table 5: Dataset Numerical Describtion: ':describe,\n",
        "        'Table 6: Missing Values By Percentage': missing_values(sample),\n",
        "        'Table 7: Dataset Columns Data types: ':dtypes,\n",
        "        'Table 8: Number of uniques in the datasets:':nunique}\n",
        "    return results"
      ],
      "metadata": {
        "execution": {
          "iopub.execute_input": "2024-06-10T11:58:40.014318Z",
          "iopub.status.busy": "2024-06-10T11:58:40.013884Z",
          "iopub.status.idle": "2024-06-10T11:58:40.021067Z",
          "shell.execute_reply": "2024-06-10T11:58:40.019885Z"
        },
        "papermill": {
          "duration": 0.023841,
          "end_time": "2024-06-10T11:58:40.023857",
          "exception": false,
          "start_time": "2024-06-10T11:58:40.000016",
          "status": "completed"
        },
        "tags": [],
        "id": "Z7H-SYrxxP0N"
      },
      "execution_count": null,
      "outputs": []
    },
    {
      "cell_type": "markdown",
      "source": [
        "- Print the dataframes of exploration results."
      ],
      "metadata": {
        "papermill": {
          "duration": 0.012283,
          "end_time": "2024-06-10T11:58:40.048824",
          "exception": false,
          "start_time": "2024-06-10T11:58:40.036541",
          "status": "completed"
        },
        "tags": [],
        "id": "FcDSOkvlxP0N"
      }
    },
    {
      "cell_type": "code",
      "source": [
        "def print_sample_exploration(results):\n",
        "    \"\"\"\n",
        "    Prints a beautufil display of each of the exploration dataframe\n",
        "    Args:\n",
        "        results (dict): contains exploration outputs with the title as key\n",
        "    Returns:\n",
        "        nothing\n",
        "    \"\"\"\n",
        "    for operation, dataframe in results.items():\n",
        "        print(f\"{operation}\")\n",
        "        if operation == 'Table 6: Missing Values By Percentage':\n",
        "            print(\"Total Sum of Missing Percetange: \", dataframe['Percentage'].sum())\n",
        "        display(dataframe)"
      ],
      "metadata": {
        "execution": {
          "iopub.execute_input": "2024-06-10T11:58:40.07739Z",
          "iopub.status.busy": "2024-06-10T11:58:40.07698Z",
          "iopub.status.idle": "2024-06-10T11:58:40.083127Z",
          "shell.execute_reply": "2024-06-10T11:58:40.081835Z"
        },
        "papermill": {
          "duration": 0.023595,
          "end_time": "2024-06-10T11:58:40.085712",
          "exception": false,
          "start_time": "2024-06-10T11:58:40.062117",
          "status": "completed"
        },
        "tags": [],
        "id": "c9PHxQUkxP0N"
      },
      "execution_count": null,
      "outputs": []
    },
    {
      "cell_type": "code",
      "source": [
        "results = explore_sample(sample)\n",
        "print_sample_exploration(results)"
      ],
      "metadata": {
        "execution": {
          "iopub.execute_input": "2024-06-10T11:58:40.113062Z",
          "iopub.status.busy": "2024-06-10T11:58:40.112656Z",
          "iopub.status.idle": "2024-06-10T11:58:40.419618Z",
          "shell.execute_reply": "2024-06-10T11:58:40.418471Z"
        },
        "papermill": {
          "duration": 0.32333,
          "end_time": "2024-06-10T11:58:40.421886",
          "exception": false,
          "start_time": "2024-06-10T11:58:40.098556",
          "status": "completed"
        },
        "tags": [],
        "id": "mQdsoCkoxP0N"
      },
      "execution_count": null,
      "outputs": []
    },
    {
      "cell_type": "markdown",
      "source": [
        "***Interpretaion***\n",
        "\n",
        "Showing the head and tail of the data presnts diffrent initial looks on the data such that all of the 10 rows are in United Kingdom, prices varies, dates have also time stamps, description of item is capetalized, the first column (index) is not serial (because it's a sample). Customer IDs could be NaN (not all consumers are regestiered with Ids.)\n",
        "\n",
        "Numerical columns of Price and Quantity have negative values, these were canceled invocies for some reason. The average of Price per unit is relativly low (4.505168) however the maximum price reached (18910.690000). Quantites have also 12960 as the highest value. For the Customers IDs there is (154,545) IDs.\n",
        "\n",
        "As expected from vewiing the head and tails, teh missing data percentages are relativly high. The total Sum of Missing Percetange:  23.136499999999998 in which 22.7275 of are Customers IDs the others are missing from Item Description column.\n",
        "\n",
        "> This is accepted since some of the customers (Buyers) are not registered they can still consume from the store.\n",
        "\n",
        "Dataset have diffrent datatypes, but the date column had object type.\n",
        "\n",
        "> Date could be separted to time, months etc\n",
        "\n",
        "> The price is only for one unit of that item must be multipled by quantity.\n",
        "\n",
        "Finally for the unique values, there is 4698 unique Stock Codes (items) but 5043 describtions that is some items might have multiple descriptions.\n",
        "\n",
        "> 36313 unique inovices (transacations) in 3 years\n",
        "\n",
        "> 5575 Unique customers.\n",
        "\n",
        "> The transaction occured from 43 diffrent countries with UK dominanta.\n"
      ],
      "metadata": {
        "papermill": {
          "duration": 0.074242,
          "end_time": "2024-06-10T11:58:40.510605",
          "exception": false,
          "start_time": "2024-06-10T11:58:40.436363",
          "status": "completed"
        },
        "tags": [],
        "id": "SHyNLyhXxP0N"
      }
    },
    {
      "cell_type": "markdown",
      "source": [
        "> <b>Handle Date and Get total Price per inovice</b>\n",
        "\n",
        "[Back](#intro)\n",
        "\n",
        " Date was handled and lowered it's cardenality into four columns (InvoiceYear, InvoiceMonth, InvoiceDay and InvoiceTime). In addition, a new column is added which is the `total_price = Quanitity * price ` since the price is provided per unit, the column is added fpr conveinecy later on."
      ],
      "metadata": {
        "papermill": {
          "duration": 0.014664,
          "end_time": "2024-06-10T11:58:40.541152",
          "exception": false,
          "start_time": "2024-06-10T11:58:40.526488",
          "status": "completed"
        },
        "tags": [],
        "id": "1pbaRIf4xP0N"
      }
    },
    {
      "cell_type": "markdown",
      "source": [
        "- Get year, day, month and time seprate columns"
      ],
      "metadata": {
        "papermill": {
          "duration": 0.015385,
          "end_time": "2024-06-10T11:58:40.572228",
          "exception": false,
          "start_time": "2024-06-10T11:58:40.556843",
          "status": "completed"
        },
        "tags": [],
        "id": "WIF-i-mvxP0N"
      }
    },
    {
      "cell_type": "code",
      "source": [
        "def handle_date(sample):\n",
        "    \"\"\"\n",
        "    Handles date high cardenality\n",
        "    Args:\n",
        "        sample (pd.Dataframe): contains datset\n",
        "    Return:\n",
        "        (pd.Dataframe) handeled with day, month, year and time columns added\n",
        "    \"\"\"\n",
        "    sample['InvoiceDate'] = pd.to_datetime(sample['InvoiceDate'])\n",
        "    sample['InvoiceYear'] = sample['InvoiceDate'].dt.year\n",
        "    sample['InvoiceMonth'] = sample['InvoiceDate'].dt.month\n",
        "    sample['InvoiceDay'] = sample['InvoiceDate'].dt.day\n",
        "    sample['InvoiceTime'] = sample['InvoiceDate'].dt.time\n",
        "    sample = sample.drop('InvoiceDate', axis=1)\n",
        "    return sample"
      ],
      "metadata": {
        "execution": {
          "iopub.execute_input": "2024-06-10T11:58:40.60356Z",
          "iopub.status.busy": "2024-06-10T11:58:40.60318Z",
          "iopub.status.idle": "2024-06-10T11:58:40.610135Z",
          "shell.execute_reply": "2024-06-10T11:58:40.608856Z"
        },
        "papermill": {
          "duration": 0.025656,
          "end_time": "2024-06-10T11:58:40.612606",
          "exception": false,
          "start_time": "2024-06-10T11:58:40.58695",
          "status": "completed"
        },
        "tags": [],
        "id": "ihsK_zAxxP0O"
      },
      "execution_count": null,
      "outputs": []
    },
    {
      "cell_type": "markdown",
      "source": [
        "- Get the total price."
      ],
      "metadata": {
        "papermill": {
          "duration": 0.014266,
          "end_time": "2024-06-10T11:58:40.641767",
          "exception": false,
          "start_time": "2024-06-10T11:58:40.627501",
          "status": "completed"
        },
        "tags": [],
        "id": "QHfQFlxoxP0O"
      }
    },
    {
      "cell_type": "code",
      "source": [
        "def get_total(row):\n",
        "    \"\"\"\n",
        "    Calcualtes the total prices by multiplication and considering quantity\n",
        "    Args:\n",
        "        row of the dataframe\n",
        "    Returns:\n",
        "        Total price  that is calculated by multiplication of Quantity*Price\n",
        "    \"\"\"\n",
        "    return row[\"Quantity\"] * row[\"Price\"]"
      ],
      "metadata": {
        "execution": {
          "iopub.execute_input": "2024-06-10T11:58:40.673812Z",
          "iopub.status.busy": "2024-06-10T11:58:40.673399Z",
          "iopub.status.idle": "2024-06-10T11:58:40.679134Z",
          "shell.execute_reply": "2024-06-10T11:58:40.677748Z"
        },
        "papermill": {
          "duration": 0.025014,
          "end_time": "2024-06-10T11:58:40.681866",
          "exception": false,
          "start_time": "2024-06-10T11:58:40.656852",
          "status": "completed"
        },
        "tags": [],
        "id": "p25iuBegxP0O"
      },
      "execution_count": null,
      "outputs": []
    },
    {
      "cell_type": "code",
      "source": [
        "sample = handle_date(sample)\n",
        "sample['total_price'] = sample.apply(get_total, axis=1)\n",
        "sample.head()"
      ],
      "metadata": {
        "execution": {
          "iopub.execute_input": "2024-06-10T11:58:40.712945Z",
          "iopub.status.busy": "2024-06-10T11:58:40.712551Z",
          "iopub.status.idle": "2024-06-10T11:58:43.269523Z",
          "shell.execute_reply": "2024-06-10T11:58:43.268175Z"
        },
        "papermill": {
          "duration": 2.575589,
          "end_time": "2024-06-10T11:58:43.272203",
          "exception": false,
          "start_time": "2024-06-10T11:58:40.696614",
          "status": "completed"
        },
        "tags": [],
        "id": "bzmx8LGZxP0O"
      },
      "execution_count": null,
      "outputs": []
    },
    {
      "cell_type": "markdown",
      "source": [
        "- Other intresting statics."
      ],
      "metadata": {
        "papermill": {
          "duration": 0.014655,
          "end_time": "2024-06-10T11:58:43.3023",
          "exception": false,
          "start_time": "2024-06-10T11:58:43.287645",
          "status": "completed"
        },
        "tags": [],
        "id": "naafRDCRxP0O"
      }
    },
    {
      "cell_type": "code",
      "source": [
        "regular_invoices = sample[~sample['Invoice'].str.startswith('C')]\n",
        "canceled_invoices = sample[sample['Invoice'].str.startswith('C')]\n",
        "hourly_sales = sample.groupby('InvoiceTime')['total_price'].sum()\n",
        "\n",
        "regular_sum = regular_invoices['total_price'].sum()\n",
        "canceled_sum = canceled_invoices['total_price'].sum()\n",
        "sales_ratio = canceled_sum / 3727\n",
        "peak_sales_hour = hourly_sales.idxmax()\n",
        "\n",
        "print(f\"The peak sales hour is at {peak_sales_hour} o'clock.\")\n",
        "print(\"Total Sales for Regular Invoices:\", regular_sum)\n",
        "print(\"Total Sales for Canceled Invoices:\", canceled_sum)\n",
        "print(\"Ratio of Total Sales (Canceled/Total inovices):\", canceled_invoices.shape[0]/len(sample.groupby(sample['Invoice'])))"
      ],
      "metadata": {
        "execution": {
          "iopub.execute_input": "2024-06-10T11:58:43.333715Z",
          "iopub.status.busy": "2024-06-10T11:58:43.333326Z",
          "iopub.status.idle": "2024-06-10T11:58:44.154278Z",
          "shell.execute_reply": "2024-06-10T11:58:44.152955Z"
        },
        "papermill": {
          "duration": 0.839806,
          "end_time": "2024-06-10T11:58:44.156863",
          "exception": false,
          "start_time": "2024-06-10T11:58:43.317057",
          "status": "completed"
        },
        "tags": [],
        "id": "ikO94602xP0O"
      },
      "execution_count": null,
      "outputs": []
    },
    {
      "cell_type": "markdown",
      "source": [
        "> <b>Visualization</b>\n",
        "\n",
        "[Back](#intro)"
      ],
      "metadata": {
        "papermill": {
          "duration": 0.014549,
          "end_time": "2024-06-10T11:58:44.186461",
          "exception": false,
          "start_time": "2024-06-10T11:58:44.171912",
          "status": "completed"
        },
        "tags": [],
        "id": "D2vGLItDxP0P"
      }
    },
    {
      "cell_type": "code",
      "source": [
        "plt.bar(['Sold Invoices', 'Canceled Invoices'], [regular_sum, canceled_sum*-1], color=['lightblue', 'red'])\n",
        "plt.xlabel('Invoice Type')\n",
        "plt.ylabel('Total Sales')\n",
        "plt.title('Figure 1: Total Sales and Canceled Invoices')\n",
        "plt.show()"
      ],
      "metadata": {
        "execution": {
          "iopub.execute_input": "2024-06-10T11:58:44.218148Z",
          "iopub.status.busy": "2024-06-10T11:58:44.217736Z",
          "iopub.status.idle": "2024-06-10T11:58:44.48512Z",
          "shell.execute_reply": "2024-06-10T11:58:44.483761Z"
        },
        "papermill": {
          "duration": 0.286289,
          "end_time": "2024-06-10T11:58:44.487795",
          "exception": false,
          "start_time": "2024-06-10T11:58:44.201506",
          "status": "completed"
        },
        "tags": [],
        "id": "s37oGs0nxP0P"
      },
      "execution_count": null,
      "outputs": []
    },
    {
      "cell_type": "markdown",
      "source": [
        "***Interpretaion***\n",
        "\n",
        "The visualization shows a comparison bewteen the total sales of inocices that have been paid and the others that have been cancelled which were low. This insight will help you on the overall sales situation within your company."
      ],
      "metadata": {
        "papermill": {
          "duration": 0.016057,
          "end_time": "2024-06-10T11:58:44.519436",
          "exception": false,
          "start_time": "2024-06-10T11:58:44.503379",
          "status": "completed"
        },
        "tags": [],
        "id": "vksupiyCxP0P"
      }
    },
    {
      "cell_type": "code",
      "source": [
        "sample.groupby('InvoiceMonth')['Invoice'].count().plot(marker='o')\n",
        "plt.title('Figure 2: Number of Invoices Over Months')\n",
        "plt.xlabel('Month')\n",
        "plt.ylabel('Number of Invoices')"
      ],
      "metadata": {
        "execution": {
          "iopub.execute_input": "2024-06-10T11:58:44.553656Z",
          "iopub.status.busy": "2024-06-10T11:58:44.55329Z",
          "iopub.status.idle": "2024-06-10T11:58:44.907839Z",
          "shell.execute_reply": "2024-06-10T11:58:44.906502Z"
        },
        "papermill": {
          "duration": 0.374687,
          "end_time": "2024-06-10T11:58:44.910505",
          "exception": false,
          "start_time": "2024-06-10T11:58:44.535818",
          "status": "completed"
        },
        "tags": [],
        "id": "RXswmJMrxP0P"
      },
      "execution_count": null,
      "outputs": []
    },
    {
      "cell_type": "markdown",
      "source": [
        "***Interpretaion***\n",
        "\n",
        "The visualization shows number of invoces over the year for each month, from August until december your store have the hoghest sales. From January until July it's not very good.\n",
        "This insight might help with deciding dates on launching your campain to target the highest customers posiible."
      ],
      "metadata": {
        "papermill": {
          "duration": 0.016636,
          "end_time": "2024-06-10T11:58:44.943689",
          "exception": false,
          "start_time": "2024-06-10T11:58:44.927053",
          "status": "completed"
        },
        "tags": [],
        "id": "4FHYtmBGxP0P"
      }
    },
    {
      "cell_type": "code",
      "source": [
        "words = ' '.join(sample['Description'].dropna())\n",
        "wordcloud = WordCloud(background_color='white').generate(words)\n",
        "plt.imshow(wordcloud)\n",
        "plt.title('Figure 3: Word Cloud of Product Descriptions')\n",
        "plt.axis('off')"
      ],
      "metadata": {
        "execution": {
          "iopub.execute_input": "2024-06-10T11:58:44.97893Z",
          "iopub.status.busy": "2024-06-10T11:58:44.978576Z",
          "iopub.status.idle": "2024-06-10T11:58:48.822906Z",
          "shell.execute_reply": "2024-06-10T11:58:48.821179Z"
        },
        "papermill": {
          "duration": 3.866617,
          "end_time": "2024-06-10T11:58:48.826873",
          "exception": false,
          "start_time": "2024-06-10T11:58:44.960256",
          "status": "completed"
        },
        "tags": [],
        "id": "RLc1zR0TxP0P"
      },
      "execution_count": null,
      "outputs": []
    },
    {
      "cell_type": "markdown",
      "source": [
        "><b>Data Insights</b>\n",
        "\n",
        "[Back](#intro)"
      ],
      "metadata": {
        "papermill": {
          "duration": 0.01914,
          "end_time": "2024-06-10T11:58:48.86835",
          "exception": false,
          "start_time": "2024-06-10T11:58:48.84921",
          "status": "completed"
        },
        "tags": [],
        "id": "XhoQpGFXxP0P"
      }
    },
    {
      "cell_type": "markdown",
      "source": [
        "## Top 5 Total sales of Inovice:\n",
        "\n",
        "1. Determine the total sales per invoice and identify the top 5 invoices."
      ],
      "metadata": {
        "papermill": {
          "duration": 0.019091,
          "end_time": "2024-06-10T11:58:48.908381",
          "exception": false,
          "start_time": "2024-06-10T11:58:48.88929",
          "status": "completed"
        },
        "tags": [],
        "id": "lzEggFVUxP0X"
      }
    },
    {
      "cell_type": "code",
      "source": [
        "print(\"The top 5 total Sales and their invovice:\")\n",
        "sample.groupby(sample['Invoice'])['total_price'].sum().nlargest(5)"
      ],
      "metadata": {
        "execution": {
          "iopub.execute_input": "2024-06-10T11:58:48.948571Z",
          "iopub.status.busy": "2024-06-10T11:58:48.948168Z",
          "iopub.status.idle": "2024-06-10T11:58:49.039289Z",
          "shell.execute_reply": "2024-06-10T11:58:49.038117Z"
        },
        "papermill": {
          "duration": 0.114261,
          "end_time": "2024-06-10T11:58:49.04172",
          "exception": false,
          "start_time": "2024-06-10T11:58:48.927459",
          "status": "completed"
        },
        "tags": [],
        "id": "-S7GBfC1xP0X"
      },
      "execution_count": null,
      "outputs": []
    },
    {
      "cell_type": "markdown",
      "source": [
        "## Top 5 Customers with Total sales:\n",
        "\n",
        "2. Compute the total sales per customer and list the top 5 customers."
      ],
      "metadata": {
        "papermill": {
          "duration": 0.019671,
          "end_time": "2024-06-10T11:58:49.080961",
          "exception": false,
          "start_time": "2024-06-10T11:58:49.06129",
          "status": "completed"
        },
        "tags": [],
        "id": "uxgi1-3ExP0X"
      }
    },
    {
      "cell_type": "code",
      "source": [
        "print(\"The top 5 buyers by Id:\")\n",
        "sample.groupby(sample['Customer ID'])['total_price'].sum().nlargest(5)"
      ],
      "metadata": {
        "execution": {
          "iopub.execute_input": "2024-06-10T11:58:49.122236Z",
          "iopub.status.busy": "2024-06-10T11:58:49.121826Z",
          "iopub.status.idle": "2024-06-10T11:58:49.142703Z",
          "shell.execute_reply": "2024-06-10T11:58:49.14166Z"
        },
        "papermill": {
          "duration": 0.044145,
          "end_time": "2024-06-10T11:58:49.145167",
          "exception": false,
          "start_time": "2024-06-10T11:58:49.101022",
          "status": "completed"
        },
        "tags": [],
        "id": "bwS7wAF9xP0X"
      },
      "execution_count": null,
      "outputs": []
    },
    {
      "cell_type": "markdown",
      "source": [
        "## Top 5 Selling Items:\n",
        "\n",
        "3. Identify the top 5 selling items during this period."
      ],
      "metadata": {
        "papermill": {
          "duration": 0.019267,
          "end_time": "2024-06-10T11:58:49.183954",
          "exception": false,
          "start_time": "2024-06-10T11:58:49.164687",
          "status": "completed"
        },
        "tags": [],
        "id": "U9LAMPUVxP0Y"
      }
    },
    {
      "cell_type": "code",
      "source": [
        "def print_top_items(sample, top5):\n",
        "    \"\"\"\n",
        "    Get top5 series and print the descriptions for each stockItem\n",
        "    Args:\n",
        "        sample (pd.Dataframe): sample of the dataset\n",
        "        top5 (pd.Series): top 5 indexed by the Stockcode\n",
        "    Returns:\n",
        "        Nothing but displays teh outputs\n",
        "    \"\"\"\n",
        "    print(\"The top selling items:\")\n",
        "    for stockcode in top5.index:\n",
        "        print(\"Stock Code: \", stockcode)\n",
        "        descriptions = sample[sample['StockCode'] == stockcode]['Description'].unique() #SOme items have multiple descriptions\n",
        "        print(\"     Descriptions:\", descriptions)"
      ],
      "metadata": {
        "execution": {
          "iopub.execute_input": "2024-06-10T11:58:49.224783Z",
          "iopub.status.busy": "2024-06-10T11:58:49.224416Z",
          "iopub.status.idle": "2024-06-10T11:58:49.230641Z",
          "shell.execute_reply": "2024-06-10T11:58:49.2295Z"
        },
        "papermill": {
          "duration": 0.029671,
          "end_time": "2024-06-10T11:58:49.233169",
          "exception": false,
          "start_time": "2024-06-10T11:58:49.203498",
          "status": "completed"
        },
        "tags": [],
        "id": "-uzD1_eSxP0Y"
      },
      "execution_count": null,
      "outputs": []
    },
    {
      "cell_type": "code",
      "source": [
        "top5 = sample.groupby('StockCode')['total_price'].sum().nlargest(5)\n",
        "print_top_items(sample, top5)"
      ],
      "metadata": {
        "execution": {
          "iopub.execute_input": "2024-06-10T11:58:49.275614Z",
          "iopub.status.busy": "2024-06-10T11:58:49.275212Z",
          "iopub.status.idle": "2024-06-10T11:58:49.44662Z",
          "shell.execute_reply": "2024-06-10T11:58:49.445106Z"
        },
        "papermill": {
          "duration": 0.195755,
          "end_time": "2024-06-10T11:58:49.449603",
          "exception": false,
          "start_time": "2024-06-10T11:58:49.253848",
          "status": "completed"
        },
        "tags": [],
        "id": "dMLQGm7-xP0Y"
      },
      "execution_count": null,
      "outputs": []
    },
    {
      "cell_type": "markdown",
      "source": [
        "## Most 20 Frequent Items Pairs:\n",
        "\n",
        "4. Determine the most frequently purchased item pairs by customers and display the top 20 pairs.\n",
        "\n",
        "> To approach this first lets group by customer ID and the INovice to get each innovice that is purchused by that same customer. Then that inovice it is made as lists of items (in that inovice). Finally since (Pairs it required) then the only_pairs function gets the shopped lists that has only two items."
      ],
      "metadata": {
        "papermill": {
          "duration": 0.019682,
          "end_time": "2024-06-10T11:58:49.489524",
          "exception": false,
          "start_time": "2024-06-10T11:58:49.469842",
          "status": "completed"
        },
        "tags": [],
        "id": "jYfNG23kxP0c"
      }
    },
    {
      "cell_type": "code",
      "source": [
        "def only_pairs(row):\n",
        "    \"\"\"\n",
        "    Make the row into a list and keeps the pairs\n",
        "    Args:\n",
        "        row: (np.array): the row in the df\n",
        "    Rturns:\n",
        "        list of row and None if len is larger than 2\n",
        "    \"\"\"\n",
        "    if len(list(row)) == 2:\n",
        "        return list(row)\n",
        "    else:\n",
        "        return None"
      ],
      "metadata": {
        "execution": {
          "iopub.execute_input": "2024-06-10T11:58:49.532672Z",
          "iopub.status.busy": "2024-06-10T11:58:49.532264Z",
          "iopub.status.idle": "2024-06-10T11:58:49.538808Z",
          "shell.execute_reply": "2024-06-10T11:58:49.537384Z"
        },
        "papermill": {
          "duration": 0.031927,
          "end_time": "2024-06-10T11:58:49.541565",
          "exception": false,
          "start_time": "2024-06-10T11:58:49.509638",
          "status": "completed"
        },
        "tags": [],
        "id": "IILwmlJrxP0c"
      },
      "execution_count": null,
      "outputs": []
    },
    {
      "cell_type": "code",
      "source": [
        "def print_top_20(sample, top20):\n",
        "    \"\"\"\n",
        "    Get top10 series and print the descriptions for each\n",
        "    Args:\n",
        "        sample (pd.Dataframe): sample of the dataset\n",
        "        top5 (pd.Series): top 20 indexed by the Stockcode\n",
        "    Returns:\n",
        "        Nothing but displays the outputs\n",
        "    \"\"\"\n",
        "    print(\"The most frequently purchased item pairs are:\")\n",
        "    i = 0\n",
        "    for stockcode in top20.index:\n",
        "        print(\"Pairs # : \", i)\n",
        "        print(\"Stock Codes: \", stockcode)\n",
        "        for code in stockcode:\n",
        "            descriptions = sample[sample['StockCode'] == code]['Description'].unique() #SOme items have multiple descriptions\n",
        "            print(\"     Descriptions:\", descriptions)\n",
        "        print(\"\\n\")\n",
        "        i = i+1"
      ],
      "metadata": {
        "execution": {
          "iopub.execute_input": "2024-06-10T11:58:49.584287Z",
          "iopub.status.busy": "2024-06-10T11:58:49.583886Z",
          "iopub.status.idle": "2024-06-10T11:58:49.591575Z",
          "shell.execute_reply": "2024-06-10T11:58:49.590315Z"
        },
        "papermill": {
          "duration": 0.031426,
          "end_time": "2024-06-10T11:58:49.593998",
          "exception": false,
          "start_time": "2024-06-10T11:58:49.562572",
          "status": "completed"
        },
        "tags": [],
        "id": "CgqNMSuGxP0d"
      },
      "execution_count": null,
      "outputs": []
    },
    {
      "cell_type": "markdown",
      "source": [
        "- Get the transactions that are on pairs (customer purchsed two items)"
      ],
      "metadata": {
        "papermill": {
          "duration": 0.019645,
          "end_time": "2024-06-10T11:58:49.633857",
          "exception": false,
          "start_time": "2024-06-10T11:58:49.614212",
          "status": "completed"
        },
        "tags": [],
        "id": "dqPhl1LaxP0d"
      }
    },
    {
      "cell_type": "code",
      "source": [
        "pairs_transactions = pd.DataFrame(sample.groupby(['Customer ID', 'Invoice'])['StockCode'].apply(only_pairs).dropna())\n",
        "pairs_transactions.head()"
      ],
      "metadata": {
        "execution": {
          "iopub.execute_input": "2024-06-10T11:58:49.675603Z",
          "iopub.status.busy": "2024-06-10T11:58:49.675223Z",
          "iopub.status.idle": "2024-06-10T11:58:50.683037Z",
          "shell.execute_reply": "2024-06-10T11:58:50.681848Z"
        },
        "papermill": {
          "duration": 1.031945,
          "end_time": "2024-06-10T11:58:50.685834",
          "exception": false,
          "start_time": "2024-06-10T11:58:49.653889",
          "status": "completed"
        },
        "tags": [],
        "id": "LRvEZyE7xP0d"
      },
      "execution_count": null,
      "outputs": []
    },
    {
      "cell_type": "markdown",
      "source": [
        "- count values (occurences of that pair) and then get the top 20 using head"
      ],
      "metadata": {
        "papermill": {
          "duration": 0.021322,
          "end_time": "2024-06-10T11:58:50.727904",
          "exception": false,
          "start_time": "2024-06-10T11:58:50.706582",
          "status": "completed"
        },
        "tags": [],
        "id": "TA_h5YZtxP0d"
      }
    },
    {
      "cell_type": "code",
      "source": [
        "top20 = pairs_transactions['StockCode'].value_counts().head(20)\n",
        "top20.head()"
      ],
      "metadata": {
        "execution": {
          "iopub.execute_input": "2024-06-10T11:58:50.773742Z",
          "iopub.status.busy": "2024-06-10T11:58:50.772904Z",
          "iopub.status.idle": "2024-06-10T11:58:53.008253Z",
          "shell.execute_reply": "2024-06-10T11:58:53.007145Z"
        },
        "papermill": {
          "duration": 2.262233,
          "end_time": "2024-06-10T11:58:53.010834",
          "exception": false,
          "start_time": "2024-06-10T11:58:50.748601",
          "status": "completed"
        },
        "tags": [],
        "id": "yYn_jIEyxP0d"
      },
      "execution_count": null,
      "outputs": []
    },
    {
      "cell_type": "markdown",
      "source": [
        "- Print the top 20 pairs with their descriptions:"
      ],
      "metadata": {
        "papermill": {
          "duration": 0.020246,
          "end_time": "2024-06-10T11:58:53.051523",
          "exception": false,
          "start_time": "2024-06-10T11:58:53.031277",
          "status": "completed"
        },
        "tags": [],
        "id": "RorD7smRxP0d"
      }
    },
    {
      "cell_type": "code",
      "source": [
        "print_top_20(sample,top20)"
      ],
      "metadata": {
        "execution": {
          "iopub.execute_input": "2024-06-10T11:58:53.095877Z",
          "iopub.status.busy": "2024-06-10T11:58:53.093679Z",
          "iopub.status.idle": "2024-06-10T11:58:54.130444Z",
          "shell.execute_reply": "2024-06-10T11:58:54.128936Z"
        },
        "papermill": {
          "duration": 1.061207,
          "end_time": "2024-06-10T11:58:54.133038",
          "exception": false,
          "start_time": "2024-06-10T11:58:53.071831",
          "status": "completed"
        },
        "tags": [],
        "id": "3D0gL06OxP0e"
      },
      "execution_count": null,
      "outputs": []
    },
    {
      "cell_type": "markdown",
      "source": [
        "- For your convience, the top 20 pairs are extracted into a csv file"
      ],
      "metadata": {
        "papermill": {
          "duration": 0.020368,
          "end_time": "2024-06-10T11:58:54.174198",
          "exception": false,
          "start_time": "2024-06-10T11:58:54.15383",
          "status": "completed"
        },
        "tags": [],
        "id": "Rn3OSjoAxP0e"
      }
    },
    {
      "cell_type": "code",
      "source": [
        "pd.DataFrame(top20.index.to_flat_index()).to_csv('top_20_pairs.csv', header='StockCode')"
      ],
      "metadata": {
        "execution": {
          "iopub.execute_input": "2024-06-10T11:58:54.216882Z",
          "iopub.status.busy": "2024-06-10T11:58:54.216532Z",
          "iopub.status.idle": "2024-06-10T11:58:54.224839Z",
          "shell.execute_reply": "2024-06-10T11:58:54.223807Z"
        },
        "papermill": {
          "duration": 0.032543,
          "end_time": "2024-06-10T11:58:54.227236",
          "exception": false,
          "start_time": "2024-06-10T11:58:54.194693",
          "status": "completed"
        },
        "tags": [],
        "id": "8FK2_HlNxP0e"
      },
      "execution_count": null,
      "outputs": []
    },
    {
      "cell_type": "markdown",
      "source": [
        "## Items for the promotion plan:\n",
        "\n",
        "5. The retail store aims to introduce a new promotion targeting items with low sales volume.\n",
        "This promotion entails offering a discounted price for a pair of two different items,\n",
        "Customers who purchase these two items together will qualify for the special pricing.\n",
        "\n",
        "- One item being among the top 10 best sellers\n",
        "- The other from the bottom 10 sellers.\n",
        "- Your task is to recommend 10 pairs of items to kickstart this campaign.\n",
        "\n",
        "> The plan is to get the top 10 sellers items, then get the top 10 bottm and pair them. (the pairing will be with review)"
      ],
      "metadata": {
        "papermill": {
          "duration": 0.02125,
          "end_time": "2024-06-10T11:58:54.269978",
          "exception": false,
          "start_time": "2024-06-10T11:58:54.248728",
          "status": "completed"
        },
        "tags": [],
        "id": "ESWuDh1LxP0e"
      }
    },
    {
      "cell_type": "code",
      "source": [
        "top10 = sample.groupby('StockCode')['total_price'].sum().nlargest(10)\n",
        "print_top_items(sample, top10)"
      ],
      "metadata": {
        "execution": {
          "iopub.execute_input": "2024-06-10T11:58:54.313387Z",
          "iopub.status.busy": "2024-06-10T11:58:54.312985Z",
          "iopub.status.idle": "2024-06-10T11:58:54.609885Z",
          "shell.execute_reply": "2024-06-10T11:58:54.608278Z"
        },
        "papermill": {
          "duration": 0.321695,
          "end_time": "2024-06-10T11:58:54.612678",
          "exception": false,
          "start_time": "2024-06-10T11:58:54.290983",
          "status": "completed"
        },
        "tags": [],
        "id": "9Gzd9_JbxP0f"
      },
      "execution_count": null,
      "outputs": []
    },
    {
      "cell_type": "code",
      "source": [
        "topBottom10 = sample.groupby('StockCode')['total_price'].sum().nsmallest(20)\n",
        "print_top_items(sample, topBottom10)"
      ],
      "metadata": {
        "execution": {
          "iopub.execute_input": "2024-06-10T11:58:54.657734Z",
          "iopub.status.busy": "2024-06-10T11:58:54.656829Z",
          "iopub.status.idle": "2024-06-10T11:58:55.193971Z",
          "shell.execute_reply": "2024-06-10T11:58:55.192593Z"
        },
        "papermill": {
          "duration": 0.561917,
          "end_time": "2024-06-10T11:58:55.196502",
          "exception": false,
          "start_time": "2024-06-10T11:58:54.634585",
          "status": "completed"
        },
        "tags": [],
        "id": "V8iWkDnmxP0f"
      },
      "execution_count": null,
      "outputs": []
    },
    {
      "cell_type": "markdown",
      "source": [
        "> On printing the least sell items the follwing wil not be included as they are not items but appears for inventory reasons they have been included.\n",
        "\n",
        "Their Stock Codes are:  \n",
        "- B, AMAZONFEE, M, BANK CHARGES, D, CRUK, S\n",
        "- Adjust bad debt, AMAZON FEE, Manual, Bank Charges, Bank Charges, Discount, CRUK Commission, SAMPLES."
      ],
      "metadata": {
        "papermill": {
          "duration": 0.02185,
          "end_time": "2024-06-10T11:58:55.239862",
          "exception": false,
          "start_time": "2024-06-10T11:58:55.218012",
          "status": "completed"
        },
        "tags": [],
        "id": "AA-zirlvxP0f"
      }
    },
    {
      "cell_type": "markdown",
      "source": [
        "<hr>"
      ],
      "metadata": {
        "papermill": {
          "duration": 0.022006,
          "end_time": "2024-06-10T11:58:55.28421",
          "exception": false,
          "start_time": "2024-06-10T11:58:55.262204",
          "status": "completed"
        },
        "tags": [],
        "id": "9WzZ8GmfxP0f"
      }
    },
    {
      "cell_type": "code",
      "source": [
        "topBottom10set = set(topBottom10.index) - set(['B', 'AMAZONFEE', 'M', 'BANK CHARGES', 'D', 'CRUK', 'S'])\n",
        "topBottom10List = list(topBottom10set)[:10]\n",
        "topBottom10List"
      ],
      "metadata": {
        "execution": {
          "iopub.execute_input": "2024-06-10T11:58:55.329576Z",
          "iopub.status.busy": "2024-06-10T11:58:55.329206Z",
          "iopub.status.idle": "2024-06-10T11:58:55.337181Z",
          "shell.execute_reply": "2024-06-10T11:58:55.336091Z"
        },
        "papermill": {
          "duration": 0.032952,
          "end_time": "2024-06-10T11:58:55.339278",
          "exception": false,
          "start_time": "2024-06-10T11:58:55.306326",
          "status": "completed"
        },
        "tags": [],
        "id": "ycjjXwOJxP0f"
      },
      "execution_count": null,
      "outputs": []
    },
    {
      "cell_type": "code",
      "source": [
        "top10List = list(top10.index)\n",
        "top10List"
      ],
      "metadata": {
        "execution": {
          "iopub.execute_input": "2024-06-10T11:58:55.38455Z",
          "iopub.status.busy": "2024-06-10T11:58:55.384173Z",
          "iopub.status.idle": "2024-06-10T11:58:55.391344Z",
          "shell.execute_reply": "2024-06-10T11:58:55.390037Z"
        },
        "papermill": {
          "duration": 0.032906,
          "end_time": "2024-06-10T11:58:55.393837",
          "exception": false,
          "start_time": "2024-06-10T11:58:55.360931",
          "status": "completed"
        },
        "tags": [],
        "id": "JVB09wavxP0f"
      },
      "execution_count": null,
      "outputs": []
    },
    {
      "cell_type": "markdown",
      "source": [
        "> now we have top 10 list and top bottom list let's pair them:\n",
        "\n",
        "Well given the non-experience in pairing gifts for people that might get them together, the pairs are chosen randomly."
      ],
      "metadata": {
        "papermill": {
          "duration": 0.022136,
          "end_time": "2024-06-10T11:58:55.437712",
          "exception": false,
          "start_time": "2024-06-10T11:58:55.415576",
          "status": "completed"
        },
        "tags": [],
        "id": "LdBZfcD-xP0f"
      }
    },
    {
      "cell_type": "code",
      "source": [
        "np.random.seed(1190652)\n",
        "np.random.shuffle(top10List)\n",
        "np.random.shuffle(topBottom10List)\n",
        "\n",
        "promotion_pairs = pd.DataFrame((zip(top10List, topBottom10List)))\n",
        "\n",
        "print(\"The Promotion pairs:\")\n",
        "promotion_pairs"
      ],
      "metadata": {
        "execution": {
          "iopub.execute_input": "2024-06-10T11:58:55.485269Z",
          "iopub.status.busy": "2024-06-10T11:58:55.484283Z",
          "iopub.status.idle": "2024-06-10T11:58:55.496481Z",
          "shell.execute_reply": "2024-06-10T11:58:55.49514Z"
        },
        "papermill": {
          "duration": 0.038522,
          "end_time": "2024-06-10T11:58:55.498832",
          "exception": false,
          "start_time": "2024-06-10T11:58:55.46031",
          "status": "completed"
        },
        "tags": [],
        "id": "_a62lctoxP0f"
      },
      "execution_count": null,
      "outputs": []
    },
    {
      "cell_type": "markdown",
      "source": [
        "- For your conveince the pairs are extracted into csv file"
      ],
      "metadata": {
        "papermill": {
          "duration": 0.02267,
          "end_time": "2024-06-10T11:58:55.5435",
          "exception": false,
          "start_time": "2024-06-10T11:58:55.52083",
          "status": "completed"
        },
        "tags": [],
        "id": "z6txbHk6xP0g"
      }
    },
    {
      "cell_type": "code",
      "source": [
        "promotion_pairs.to_csv('promotion_pairs.csv')"
      ],
      "metadata": {
        "execution": {
          "iopub.execute_input": "2024-06-10T11:58:55.591035Z",
          "iopub.status.busy": "2024-06-10T11:58:55.58997Z",
          "iopub.status.idle": "2024-06-10T11:58:55.596578Z",
          "shell.execute_reply": "2024-06-10T11:58:55.595365Z"
        },
        "papermill": {
          "duration": 0.032787,
          "end_time": "2024-06-10T11:58:55.598988",
          "exception": false,
          "start_time": "2024-06-10T11:58:55.566201",
          "status": "completed"
        },
        "tags": [],
        "id": "F4sGOBW2xP0g"
      },
      "execution_count": null,
      "outputs": []
    },
    {
      "cell_type": "markdown",
      "source": [
        "## <b>Recommendations</b>\n",
        "[Back](#intro)\n",
        "\n",
        "In conclusion, we shall recmmoend you to launch the promotion campaign starting from mid of octobur, since you seem to have a high number of inovices between [September - Decemer] you will be more likely to sell those with higher numbers of cutomers. We shall also recommend using the peack sales hours and around to promote which is at at 15:28:00 o'clock.\n",
        "\n",
        "It is worth mentioning that the percentages of canceling an innovice is (Canceled/Total inovices): 0.10263541982210228 which is relativly great. You have a total sum of -313,185.53 of canceld inovices in the time given, this is worth further investigation.\n",
        "\n",
        "You also have high non-registered customer, we recommned starting a campain since almost 23 percetage of the buyers are not registered.\n",
        "\n",
        "More details for your promotions campain based on your requiremnts:"
      ],
      "metadata": {
        "papermill": {
          "duration": 0.022781,
          "end_time": "2024-06-10T11:58:55.644545",
          "exception": false,
          "start_time": "2024-06-10T11:58:55.621764",
          "status": "completed"
        },
        "tags": [],
        "id": "B1cYVMvuxP0g"
      }
    },
    {
      "cell_type": "markdown",
      "source": [
        "**The Top 5 invoices based on their Total sales** are found to be very high such:\n",
        "\n",
        "Table 9: Top 5 invoices\n",
        "\n",
        "|Invoice|total price|\n",
        "|-----|---|\n",
        "|556444|    38,970.00|\n",
        "|530715    |15,818.40|\n",
        "|537632 |   13,541.33|\n",
        "|574941  |  11,318.40|\n",
        "|572209   |  9,855.00|"
      ],
      "metadata": {
        "papermill": {
          "duration": 0.021782,
          "end_time": "2024-06-10T11:58:55.688485",
          "exception": false,
          "start_time": "2024-06-10T11:58:55.666703",
          "status": "completed"
        },
        "tags": [],
        "id": "CmT90GonxP0g"
      }
    },
    {
      "cell_type": "markdown",
      "source": [
        "**Top 5 customers based on their Total buying**\n",
        "\n",
        "Table 10: Top 5 customers\n",
        "\n",
        "|Customer ID| total price|\n",
        "|---|--|\n",
        "|18102.0 |   103610.73|\n",
        "|14646.0  |   94118.39|\n",
        "|17450.0   |  53062.80|\n",
        "|14156.0    | 48606.45|\n",
        "|14911.0     |46425.48|"
      ],
      "metadata": {
        "papermill": {
          "duration": 0.022844,
          "end_time": "2024-06-10T11:58:55.734282",
          "exception": false,
          "start_time": "2024-06-10T11:58:55.711438",
          "status": "completed"
        },
        "tags": [],
        "id": "Gem9fSjBxP0g"
      }
    },
    {
      "cell_type": "markdown",
      "source": [
        "**Top 5 Selling Items during that Period**\n",
        "\n",
        "1. DOTCOM POSTAGE\n",
        "2. REGENCY CAKESTAND 3 TIER\n",
        "3. WHITE HANGING HEART T-LIGHT HOLDER\n",
        "4. PICNIC BASKET WICKER SMALL\n",
        "5. 'JUMBO BAG RED RETROSPOT"
      ],
      "metadata": {
        "papermill": {
          "duration": 0.0224,
          "end_time": "2024-06-10T11:58:55.779756",
          "exception": false,
          "start_time": "2024-06-10T11:58:55.757356",
          "status": "completed"
        },
        "tags": [],
        "id": "cABhvLISxP0g"
      }
    },
    {
      "cell_type": "markdown",
      "source": [
        "**Top 20 Pairs, Most Frequently Purchased Item Pairs by Customers**\n",
        "\n",
        "1. pink regency teacup and saucer and regency cakestand 3 tier\n",
        "2. lunch bag black skull. and lunch bag red retrospot\n",
        "3. pack of 60 pink paisley cake cases and pack of 72 retro spot cake cases\n",
        "4. red kitchen scales and ivory kitchen scales\n",
        "5. gin + tonic diet metal sign and please one person metal sign\n",
        "6. record frame 7\" single size and black record cover frame\n",
        "7. white hanging heart t-light holder and wood black board ant white finish\n",
        "8. postage and set/6 red spotty paper cups\n",
        "9. coffee mug apples design and coffee mug cat + bird design\n",
        "10. red retrospot cup and pink spotty cup\n",
        "11. white hanging heart t-light holder and retro spot tea set ceramic 11 pc\n",
        "12. kitchen metal sign and lovebird hanging decoration white\n",
        "13. doormat spotty home sweet home and door mat union flag\n",
        "14. pink blue felt craft trinket box and vintage snap cards\n",
        "15. feltcraft cushion rabbit and feltcraft cushion owl\n",
        "16. wooden frame antique white and knitted union flag hot water bottle\n",
        "17. pink cream felt craft trinket box and feltcraft 6 flower friends\n",
        "18. SINGLE HEART ZINC T-LIGHT HOLDER and HANGING HEART ZINC T-LIGHT HOLDER\n",
        "19. green regency teacup and saucer and pink regency teacup and saucer\n",
        "20. childrens apron spaceboy design and lunch bag suki design"
      ],
      "metadata": {
        "papermill": {
          "duration": 0.022434,
          "end_time": "2024-06-10T11:58:55.824445",
          "exception": false,
          "start_time": "2024-06-10T11:58:55.802011",
          "status": "completed"
        },
        "tags": [],
        "id": "mZLHftrsxP0g"
      }
    },
    {
      "cell_type": "markdown",
      "source": [
        "**Recommendations for a New Promotion Targeting Items with Low Sales Volume**\n"
      ],
      "metadata": {
        "papermill": {
          "duration": 0.022205,
          "end_time": "2024-06-10T11:58:55.869172",
          "exception": false,
          "start_time": "2024-06-10T11:58:55.846967",
          "status": "completed"
        },
        "tags": [],
        "id": "CPxVnNCUxP0h"
      }
    },
    {
      "cell_type": "code",
      "source": [
        "print(\"The Promotion pairs:\")\n",
        "promotion_pairs"
      ],
      "metadata": {
        "execution": {
          "iopub.execute_input": "2024-06-10T11:58:55.917695Z",
          "iopub.status.busy": "2024-06-10T11:58:55.91732Z",
          "iopub.status.idle": "2024-06-10T11:58:55.928654Z",
          "shell.execute_reply": "2024-06-10T11:58:55.927433Z"
        },
        "papermill": {
          "duration": 0.03743,
          "end_time": "2024-06-10T11:58:55.930744",
          "exception": false,
          "start_time": "2024-06-10T11:58:55.893314",
          "status": "completed"
        },
        "tags": [],
        "id": "bni5C4NCxP0h"
      },
      "execution_count": null,
      "outputs": []
    },
    {
      "cell_type": "markdown",
      "source": [
        "You can also refer to the csv results files"
      ],
      "metadata": {
        "papermill": {
          "duration": 0.022225,
          "end_time": "2024-06-10T11:58:55.975284",
          "exception": false,
          "start_time": "2024-06-10T11:58:55.953059",
          "status": "completed"
        },
        "tags": [],
        "id": "NOyDnHIZxP0h"
      }
    },
    {
      "cell_type": "markdown",
      "source": [
        "<hr>"
      ],
      "metadata": {
        "papermill": {
          "duration": 0.021958,
          "end_time": "2024-06-10T11:58:56.01982",
          "exception": false,
          "start_time": "2024-06-10T11:58:55.997862",
          "status": "completed"
        },
        "tags": [],
        "id": "2pFc38TQxP0h"
      }
    },
    {
      "cell_type": "markdown",
      "source": [
        "## <b>Refrences</b>\n",
        "[Back](#intro)\n",
        "\n",
        "- [1] https://pandas.pydata.org/pandas-docs/stable/reference/api/pandas.DataFrame.nlargest.html\n",
        "- [2] https://stackoverflow.com/questions/26873127/show-dataframe-as-table-in-ipython-notebook\n",
        "- [3] https://www.kaggle.com/datasets/mashlyn/online-retail-ii-uci\n",
        "- [4] https://pandas.pydata.org/pandas-docs/stable/reference/api/pandas.MultiIndex.to_flat_index.html\n",
        "- [5] https://www.kaggle.com/code/sondosaabed/analyis-of-uk-based-online-retail-transactions\n",
        "<hr>"
      ],
      "metadata": {
        "papermill": {
          "duration": 0.02229,
          "end_time": "2024-06-10T11:58:56.064508",
          "exception": false,
          "start_time": "2024-06-10T11:58:56.042218",
          "status": "completed"
        },
        "tags": [],
        "id": "JXnq3RxfxP0h"
      }
    }
  ]
}