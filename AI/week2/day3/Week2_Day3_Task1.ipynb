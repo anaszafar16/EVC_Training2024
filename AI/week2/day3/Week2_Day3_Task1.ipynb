{
  "cells": [
    {
      "cell_type": "markdown",
      "metadata": {
        "id": "fZf6dXIgbJxM"
      },
      "source": [
        "# Task1: Handling text data (CSV file)\n",
        "load the dataset(https://www.kaggle.com/datasets/kazanova/sentiment140) and preprocess the text data, then create a classifier using sklearn and plot the results(Accuracy) to visualize the classifier's performance\n",
        "\n",
        "Text preprocessing tutorial: https://medium.com/@awaldeep/understanding-the-essentials-nlp-text-preprocessing-steps-b5d1fd58c11a#:~:text=Understanding%20the%20Essentials%3A%20NLP%20Text%20Preprocessing%20Steps%21%201,Whitespace%20stripping%20...%208%20Lemmatization%2FStemming%20...%20More%20items\n",
        "\n",
        "Text preprocessing vedio: https://youtu.be/hhjn4HVEdy0?si=C7BPzO7GktHiijk_"
      ]
    },
    {
      "cell_type": "code",
      "execution_count": null,
      "metadata": {
        "execution": {
          "iopub.execute_input": "2024-07-22T11:54:25.761913Z",
          "iopub.status.busy": "2024-07-22T11:54:25.761495Z",
          "iopub.status.idle": "2024-07-22T11:54:29.258590Z",
          "shell.execute_reply": "2024-07-22T11:54:29.256895Z",
          "shell.execute_reply.started": "2024-07-22T11:54:25.761874Z"
        },
        "trusted": true,
        "id": "ajvg04_ibJxN",
        "outputId": "911c52ad-1977-4bc0-d909-ac99897365d5"
      },
      "outputs": [
        {
          "name": "stdout",
          "output_type": "stream",
          "text": [
            "[nltk_data] Downloading package punkt to /usr/share/nltk_data...\n",
            "[nltk_data]   Package punkt is already up-to-date!\n"
          ]
        },
        {
          "data": {
            "text/plain": [
              "True"
            ]
          },
          "execution_count": 1,
          "metadata": {},
          "output_type": "execute_result"
        }
      ],
      "source": [
        "import numpy as np\n",
        "import pandas as pd\n",
        "import string\n",
        "import nltk\n",
        "import re\n",
        "from sklearn.model_selection import train_test_split\n",
        "from sklearn.preprocessing import LabelEncoder\n",
        "from sklearn.feature_extraction.text import TfidfVectorizer\n",
        "from sklearn.metrics import accuracy_score, precision_score, recall_score, f1_score\n",
        "from nltk.stem import PorterStemmer\n",
        "from sklearn.naive_bayes import MultinomialNB\n",
        "from sklearn.metrics import classification_report\n",
        "import nltk\n",
        "nltk.download('punkt')"
      ]
    },
    {
      "cell_type": "code",
      "execution_count": null,
      "metadata": {
        "execution": {
          "iopub.execute_input": "2024-07-22T11:54:29.261024Z",
          "iopub.status.busy": "2024-07-22T11:54:29.260508Z",
          "iopub.status.idle": "2024-07-22T11:54:37.084117Z",
          "shell.execute_reply": "2024-07-22T11:54:37.083010Z",
          "shell.execute_reply.started": "2024-07-22T11:54:29.260987Z"
        },
        "trusted": true,
        "id": "HmT0or9HbJxO",
        "outputId": "743caa3e-b30c-44b0-d13d-91a5169183df"
      },
      "outputs": [
        {
          "data": {
            "text/html": [
              "<div>\n",
              "<style scoped>\n",
              "    .dataframe tbody tr th:only-of-type {\n",
              "        vertical-align: middle;\n",
              "    }\n",
              "\n",
              "    .dataframe tbody tr th {\n",
              "        vertical-align: top;\n",
              "    }\n",
              "\n",
              "    .dataframe thead th {\n",
              "        text-align: right;\n",
              "    }\n",
              "</style>\n",
              "<table border=\"1\" class=\"dataframe\">\n",
              "  <thead>\n",
              "    <tr style=\"text-align: right;\">\n",
              "      <th></th>\n",
              "      <th>0</th>\n",
              "      <th>1467810369</th>\n",
              "      <th>Mon Apr 06 22:19:45 PDT 2009</th>\n",
              "      <th>NO_QUERY</th>\n",
              "      <th>_TheSpecialOne_</th>\n",
              "      <th>@switchfoot http://twitpic.com/2y1zl - Awww, that's a bummer.  You shoulda got David Carr of Third Day to do it. ;D</th>\n",
              "    </tr>\n",
              "  </thead>\n",
              "  <tbody>\n",
              "    <tr>\n",
              "      <th>0</th>\n",
              "      <td>0</td>\n",
              "      <td>1467810672</td>\n",
              "      <td>Mon Apr 06 22:19:49 PDT 2009</td>\n",
              "      <td>NO_QUERY</td>\n",
              "      <td>scotthamilton</td>\n",
              "      <td>is upset that he can't update his Facebook by ...</td>\n",
              "    </tr>\n",
              "    <tr>\n",
              "      <th>1</th>\n",
              "      <td>0</td>\n",
              "      <td>1467810917</td>\n",
              "      <td>Mon Apr 06 22:19:53 PDT 2009</td>\n",
              "      <td>NO_QUERY</td>\n",
              "      <td>mattycus</td>\n",
              "      <td>@Kenichan I dived many times for the ball. Man...</td>\n",
              "    </tr>\n",
              "    <tr>\n",
              "      <th>2</th>\n",
              "      <td>0</td>\n",
              "      <td>1467811184</td>\n",
              "      <td>Mon Apr 06 22:19:57 PDT 2009</td>\n",
              "      <td>NO_QUERY</td>\n",
              "      <td>ElleCTF</td>\n",
              "      <td>my whole body feels itchy and like its on fire</td>\n",
              "    </tr>\n",
              "    <tr>\n",
              "      <th>3</th>\n",
              "      <td>0</td>\n",
              "      <td>1467811193</td>\n",
              "      <td>Mon Apr 06 22:19:57 PDT 2009</td>\n",
              "      <td>NO_QUERY</td>\n",
              "      <td>Karoli</td>\n",
              "      <td>@nationwideclass no, it's not behaving at all....</td>\n",
              "    </tr>\n",
              "    <tr>\n",
              "      <th>4</th>\n",
              "      <td>0</td>\n",
              "      <td>1467811372</td>\n",
              "      <td>Mon Apr 06 22:20:00 PDT 2009</td>\n",
              "      <td>NO_QUERY</td>\n",
              "      <td>joy_wolf</td>\n",
              "      <td>@Kwesidei not the whole crew</td>\n",
              "    </tr>\n",
              "  </tbody>\n",
              "</table>\n",
              "</div>"
            ],
            "text/plain": [
              "   0  1467810369  Mon Apr 06 22:19:45 PDT 2009  NO_QUERY _TheSpecialOne_  \\\n",
              "0  0  1467810672  Mon Apr 06 22:19:49 PDT 2009  NO_QUERY   scotthamilton   \n",
              "1  0  1467810917  Mon Apr 06 22:19:53 PDT 2009  NO_QUERY        mattycus   \n",
              "2  0  1467811184  Mon Apr 06 22:19:57 PDT 2009  NO_QUERY         ElleCTF   \n",
              "3  0  1467811193  Mon Apr 06 22:19:57 PDT 2009  NO_QUERY          Karoli   \n",
              "4  0  1467811372  Mon Apr 06 22:20:00 PDT 2009  NO_QUERY        joy_wolf   \n",
              "\n",
              "  @switchfoot http://twitpic.com/2y1zl - Awww, that's a bummer.  You shoulda got David Carr of Third Day to do it. ;D  \n",
              "0  is upset that he can't update his Facebook by ...                                                                   \n",
              "1  @Kenichan I dived many times for the ball. Man...                                                                   \n",
              "2    my whole body feels itchy and like its on fire                                                                    \n",
              "3  @nationwideclass no, it's not behaving at all....                                                                   \n",
              "4                      @Kwesidei not the whole crew                                                                    "
            ]
          },
          "execution_count": 2,
          "metadata": {},
          "output_type": "execute_result"
        }
      ],
      "source": [
        "df=pd.read_csv(\"/kaggle/input/sentiment140/training.1600000.processed.noemoticon.csv\", encoding='ISO-8859-1')\n",
        "df.head()"
      ]
    },
    {
      "cell_type": "code",
      "execution_count": null,
      "metadata": {
        "execution": {
          "iopub.execute_input": "2024-07-22T11:54:37.085921Z",
          "iopub.status.busy": "2024-07-22T11:54:37.085469Z",
          "iopub.status.idle": "2024-07-22T11:54:37.093153Z",
          "shell.execute_reply": "2024-07-22T11:54:37.091956Z",
          "shell.execute_reply.started": "2024-07-22T11:54:37.085877Z"
        },
        "trusted": true,
        "id": "u18bsm6ZbJxP",
        "outputId": "2b4576f2-57b7-4c91-d801-2aab150a4071"
      },
      "outputs": [
        {
          "data": {
            "text/plain": [
              "(1599999, 6)"
            ]
          },
          "execution_count": 3,
          "metadata": {},
          "output_type": "execute_result"
        }
      ],
      "source": [
        "df.shape"
      ]
    },
    {
      "cell_type": "code",
      "execution_count": null,
      "metadata": {
        "execution": {
          "iopub.execute_input": "2024-07-22T11:54:37.094930Z",
          "iopub.status.busy": "2024-07-22T11:54:37.094605Z",
          "iopub.status.idle": "2024-07-22T11:54:37.455202Z",
          "shell.execute_reply": "2024-07-22T11:54:37.454082Z",
          "shell.execute_reply.started": "2024-07-22T11:54:37.094902Z"
        },
        "trusted": true,
        "id": "Wu9uhcrGbJxP",
        "outputId": "2d89d8dd-bf5e-4150-9d3c-47cff42fb034"
      },
      "outputs": [
        {
          "name": "stdout",
          "output_type": "stream",
          "text": [
            "<class 'pandas.core.frame.DataFrame'>\n",
            "RangeIndex: 1599999 entries, 0 to 1599998\n",
            "Data columns (total 6 columns):\n",
            " #   Column                                                                                                               Non-Null Count    Dtype \n",
            "---  ------                                                                                                               --------------    ----- \n",
            " 0   0                                                                                                                    1599999 non-null  int64 \n",
            " 1   1467810369                                                                                                           1599999 non-null  int64 \n",
            " 2   Mon Apr 06 22:19:45 PDT 2009                                                                                         1599999 non-null  object\n",
            " 3   NO_QUERY                                                                                                             1599999 non-null  object\n",
            " 4   _TheSpecialOne_                                                                                                      1599999 non-null  object\n",
            " 5   @switchfoot http://twitpic.com/2y1zl - Awww, that's a bummer.  You shoulda got David Carr of Third Day to do it. ;D  1599999 non-null  object\n",
            "dtypes: int64(2), object(4)\n",
            "memory usage: 73.2+ MB\n"
          ]
        }
      ],
      "source": [
        "df.info()"
      ]
    },
    {
      "cell_type": "code",
      "execution_count": null,
      "metadata": {
        "execution": {
          "iopub.execute_input": "2024-07-22T11:54:37.458504Z",
          "iopub.status.busy": "2024-07-22T11:54:37.458088Z",
          "iopub.status.idle": "2024-07-22T11:54:37.795375Z",
          "shell.execute_reply": "2024-07-22T11:54:37.794229Z",
          "shell.execute_reply.started": "2024-07-22T11:54:37.458466Z"
        },
        "trusted": true,
        "id": "H5RfIjhCbJxP",
        "outputId": "612f097d-0081-475d-b81e-589f7f25a3ee"
      },
      "outputs": [
        {
          "data": {
            "text/plain": [
              "0                                                                                                                      0\n",
              "1467810369                                                                                                             0\n",
              "Mon Apr 06 22:19:45 PDT 2009                                                                                           0\n",
              "NO_QUERY                                                                                                               0\n",
              "_TheSpecialOne_                                                                                                        0\n",
              "@switchfoot http://twitpic.com/2y1zl - Awww, that's a bummer.  You shoulda got David Carr of Third Day to do it. ;D    0\n",
              "dtype: int64"
            ]
          },
          "execution_count": 5,
          "metadata": {},
          "output_type": "execute_result"
        }
      ],
      "source": [
        "df.isnull().sum() # check missing values"
      ]
    },
    {
      "cell_type": "code",
      "execution_count": null,
      "metadata": {
        "execution": {
          "iopub.execute_input": "2024-07-22T11:54:37.796890Z",
          "iopub.status.busy": "2024-07-22T11:54:37.796564Z",
          "iopub.status.idle": "2024-07-22T11:54:39.780106Z",
          "shell.execute_reply": "2024-07-22T11:54:39.779078Z",
          "shell.execute_reply.started": "2024-07-22T11:54:37.796857Z"
        },
        "trusted": true,
        "id": "ZfJPiwaGbJxP",
        "outputId": "6a9a6df5-315b-429d-cf5c-6c890b9f8b6b"
      },
      "outputs": [
        {
          "data": {
            "text/plain": [
              "0"
            ]
          },
          "execution_count": 6,
          "metadata": {},
          "output_type": "execute_result"
        }
      ],
      "source": [
        "df.duplicated().sum()"
      ]
    },
    {
      "cell_type": "code",
      "execution_count": null,
      "metadata": {
        "execution": {
          "iopub.execute_input": "2024-07-22T11:54:39.781866Z",
          "iopub.status.busy": "2024-07-22T11:54:39.781441Z",
          "iopub.status.idle": "2024-07-22T11:54:39.790274Z",
          "shell.execute_reply": "2024-07-22T11:54:39.789077Z",
          "shell.execute_reply.started": "2024-07-22T11:54:39.781829Z"
        },
        "trusted": true,
        "id": "ue3KIxwvbJxP",
        "outputId": "cdbd0fdb-2d6d-4a99-c6fd-eb423573f0c2"
      },
      "outputs": [
        {
          "data": {
            "text/plain": [
              "0                                                                                                                       int64\n",
              "1467810369                                                                                                              int64\n",
              "Mon Apr 06 22:19:45 PDT 2009                                                                                           object\n",
              "NO_QUERY                                                                                                               object\n",
              "_TheSpecialOne_                                                                                                        object\n",
              "@switchfoot http://twitpic.com/2y1zl - Awww, that's a bummer.  You shoulda got David Carr of Third Day to do it. ;D    object\n",
              "dtype: object"
            ]
          },
          "execution_count": 7,
          "metadata": {},
          "output_type": "execute_result"
        }
      ],
      "source": [
        "df.dtypes"
      ]
    },
    {
      "cell_type": "code",
      "execution_count": null,
      "metadata": {
        "execution": {
          "iopub.execute_input": "2024-07-22T11:54:39.791927Z",
          "iopub.status.busy": "2024-07-22T11:54:39.791583Z",
          "iopub.status.idle": "2024-07-22T11:54:39.802972Z",
          "shell.execute_reply": "2024-07-22T11:54:39.801869Z",
          "shell.execute_reply.started": "2024-07-22T11:54:39.791896Z"
        },
        "trusted": true,
        "id": "cTrwzOx5bJxP",
        "outputId": "2ec4eed3-5dad-45d0-c526-b27d645730b7"
      },
      "outputs": [
        {
          "data": {
            "text/plain": [
              "Index(['0', '1467810369', 'Mon Apr 06 22:19:45 PDT 2009', 'NO_QUERY',\n",
              "       '_TheSpecialOne_',\n",
              "       '@switchfoot http://twitpic.com/2y1zl - Awww, that's a bummer.  You shoulda got David Carr of Third Day to do it. ;D'],\n",
              "      dtype='object')"
            ]
          },
          "execution_count": 8,
          "metadata": {},
          "output_type": "execute_result"
        }
      ],
      "source": [
        "df.columns"
      ]
    },
    {
      "cell_type": "code",
      "execution_count": null,
      "metadata": {
        "execution": {
          "iopub.execute_input": "2024-07-22T11:54:39.804814Z",
          "iopub.status.busy": "2024-07-22T11:54:39.804388Z",
          "iopub.status.idle": "2024-07-22T11:54:39.913203Z",
          "shell.execute_reply": "2024-07-22T11:54:39.912011Z",
          "shell.execute_reply.started": "2024-07-22T11:54:39.804754Z"
        },
        "trusted": true,
        "id": "kj11vTGjbJxP",
        "outputId": "b36ddaf7-f27d-4340-8e8d-009625169b2a"
      },
      "outputs": [
        {
          "data": {
            "text/html": [
              "<div>\n",
              "<style scoped>\n",
              "    .dataframe tbody tr th:only-of-type {\n",
              "        vertical-align: middle;\n",
              "    }\n",
              "\n",
              "    .dataframe tbody tr th {\n",
              "        vertical-align: top;\n",
              "    }\n",
              "\n",
              "    .dataframe thead th {\n",
              "        text-align: right;\n",
              "    }\n",
              "</style>\n",
              "<table border=\"1\" class=\"dataframe\">\n",
              "  <thead>\n",
              "    <tr style=\"text-align: right;\">\n",
              "      <th></th>\n",
              "      <th>target</th>\n",
              "      <th>ids</th>\n",
              "      <th>date</th>\n",
              "      <th>falg</th>\n",
              "      <th>user</th>\n",
              "      <th>text</th>\n",
              "    </tr>\n",
              "  </thead>\n",
              "  <tbody>\n",
              "    <tr>\n",
              "      <th>0</th>\n",
              "      <td>0</td>\n",
              "      <td>1467810672</td>\n",
              "      <td>Mon Apr 06 22:19:49 PDT 2009</td>\n",
              "      <td>NO_QUERY</td>\n",
              "      <td>scotthamilton</td>\n",
              "      <td>is upset that he can't update his Facebook by ...</td>\n",
              "    </tr>\n",
              "    <tr>\n",
              "      <th>1</th>\n",
              "      <td>0</td>\n",
              "      <td>1467810917</td>\n",
              "      <td>Mon Apr 06 22:19:53 PDT 2009</td>\n",
              "      <td>NO_QUERY</td>\n",
              "      <td>mattycus</td>\n",
              "      <td>@Kenichan I dived many times for the ball. Man...</td>\n",
              "    </tr>\n",
              "    <tr>\n",
              "      <th>2</th>\n",
              "      <td>0</td>\n",
              "      <td>1467811184</td>\n",
              "      <td>Mon Apr 06 22:19:57 PDT 2009</td>\n",
              "      <td>NO_QUERY</td>\n",
              "      <td>ElleCTF</td>\n",
              "      <td>my whole body feels itchy and like its on fire</td>\n",
              "    </tr>\n",
              "    <tr>\n",
              "      <th>3</th>\n",
              "      <td>0</td>\n",
              "      <td>1467811193</td>\n",
              "      <td>Mon Apr 06 22:19:57 PDT 2009</td>\n",
              "      <td>NO_QUERY</td>\n",
              "      <td>Karoli</td>\n",
              "      <td>@nationwideclass no, it's not behaving at all....</td>\n",
              "    </tr>\n",
              "    <tr>\n",
              "      <th>4</th>\n",
              "      <td>0</td>\n",
              "      <td>1467811372</td>\n",
              "      <td>Mon Apr 06 22:20:00 PDT 2009</td>\n",
              "      <td>NO_QUERY</td>\n",
              "      <td>joy_wolf</td>\n",
              "      <td>@Kwesidei not the whole crew</td>\n",
              "    </tr>\n",
              "  </tbody>\n",
              "</table>\n",
              "</div>"
            ],
            "text/plain": [
              "   target         ids                          date      falg           user  \\\n",
              "0       0  1467810672  Mon Apr 06 22:19:49 PDT 2009  NO_QUERY  scotthamilton   \n",
              "1       0  1467810917  Mon Apr 06 22:19:53 PDT 2009  NO_QUERY       mattycus   \n",
              "2       0  1467811184  Mon Apr 06 22:19:57 PDT 2009  NO_QUERY        ElleCTF   \n",
              "3       0  1467811193  Mon Apr 06 22:19:57 PDT 2009  NO_QUERY         Karoli   \n",
              "4       0  1467811372  Mon Apr 06 22:20:00 PDT 2009  NO_QUERY       joy_wolf   \n",
              "\n",
              "                                                text  \n",
              "0  is upset that he can't update his Facebook by ...  \n",
              "1  @Kenichan I dived many times for the ball. Man...  \n",
              "2    my whole body feels itchy and like its on fire   \n",
              "3  @nationwideclass no, it's not behaving at all....  \n",
              "4                      @Kwesidei not the whole crew   "
            ]
          },
          "execution_count": 9,
          "metadata": {},
          "output_type": "execute_result"
        }
      ],
      "source": [
        "new_columns = ['target', 'ids','date' ,'falg','user', 'text']\n",
        "df = df.rename(columns=dict(zip(df.columns, new_columns)))\n",
        "df.head()"
      ]
    },
    {
      "cell_type": "code",
      "execution_count": null,
      "metadata": {
        "execution": {
          "iopub.execute_input": "2024-07-22T11:54:39.915299Z",
          "iopub.status.busy": "2024-07-22T11:54:39.914912Z",
          "iopub.status.idle": "2024-07-22T11:54:39.940714Z",
          "shell.execute_reply": "2024-07-22T11:54:39.939464Z",
          "shell.execute_reply.started": "2024-07-22T11:54:39.915269Z"
        },
        "trusted": true,
        "id": "0xg5skKHbJxP",
        "outputId": "b039d538-48e4-4e02-e663-f0127266b052"
      },
      "outputs": [
        {
          "data": {
            "text/plain": [
              "target\n",
              "4    800000\n",
              "0    799999\n",
              "Name: count, dtype: int64"
            ]
          },
          "execution_count": 10,
          "metadata": {},
          "output_type": "execute_result"
        }
      ],
      "source": [
        "df['target'].value_counts()"
      ]
    },
    {
      "cell_type": "markdown",
      "metadata": {
        "id": "-BbCn5SybJxP"
      },
      "source": [
        "****preprocessing****"
      ]
    },
    {
      "cell_type": "code",
      "execution_count": null,
      "metadata": {
        "execution": {
          "iopub.execute_input": "2024-07-22T11:54:39.942662Z",
          "iopub.status.busy": "2024-07-22T11:54:39.942294Z",
          "iopub.status.idle": "2024-07-22T11:54:40.473715Z",
          "shell.execute_reply": "2024-07-22T11:54:40.472567Z",
          "shell.execute_reply.started": "2024-07-22T11:54:39.942631Z"
        },
        "trusted": true,
        "id": "H30J5PbEbJxQ",
        "outputId": "6eab7f93-c102-4706-f67c-0dc625797c8a"
      },
      "outputs": [
        {
          "data": {
            "text/plain": [
              "0          is upset that he can't update his facebook by ...\n",
              "1          @kenichan i dived many times for the ball. man...\n",
              "2            my whole body feels itchy and like its on fire \n",
              "3          @nationwideclass no, it's not behaving at all....\n",
              "4                              @kwesidei not the whole crew \n",
              "                                 ...                        \n",
              "1599994    just woke up. having no school is the best fee...\n",
              "1599995    thewdb.com - very cool to hear old walt interv...\n",
              "1599996    are you ready for your mojo makeover? ask me f...\n",
              "1599997    happy 38th birthday to my boo of alll time!!! ...\n",
              "1599998    happy #charitytuesday @thenspcc @sparkscharity...\n",
              "Name: text, Length: 1599999, dtype: object"
            ]
          },
          "execution_count": 11,
          "metadata": {},
          "output_type": "execute_result"
        }
      ],
      "source": [
        "df['text'] = df['text'].str.lower() #lower case\n",
        "df['text']"
      ]
    },
    {
      "cell_type": "code",
      "execution_count": null,
      "metadata": {
        "execution": {
          "iopub.execute_input": "2024-07-22T11:54:40.475461Z",
          "iopub.status.busy": "2024-07-22T11:54:40.475044Z",
          "iopub.status.idle": "2024-07-22T11:54:47.892519Z",
          "shell.execute_reply": "2024-07-22T11:54:47.891451Z",
          "shell.execute_reply.started": "2024-07-22T11:54:40.475421Z"
        },
        "trusted": true,
        "id": "u5XiW5gAbJxQ",
        "outputId": "ebe3291b-802f-4307-d4c5-e2986f1d3a7d"
      },
      "outputs": [
        {
          "data": {
            "text/html": [
              "<div>\n",
              "<style scoped>\n",
              "    .dataframe tbody tr th:only-of-type {\n",
              "        vertical-align: middle;\n",
              "    }\n",
              "\n",
              "    .dataframe tbody tr th {\n",
              "        vertical-align: top;\n",
              "    }\n",
              "\n",
              "    .dataframe thead th {\n",
              "        text-align: right;\n",
              "    }\n",
              "</style>\n",
              "<table border=\"1\" class=\"dataframe\">\n",
              "  <thead>\n",
              "    <tr style=\"text-align: right;\">\n",
              "      <th></th>\n",
              "      <th>target</th>\n",
              "      <th>ids</th>\n",
              "      <th>date</th>\n",
              "      <th>falg</th>\n",
              "      <th>user</th>\n",
              "      <th>text</th>\n",
              "    </tr>\n",
              "  </thead>\n",
              "  <tbody>\n",
              "    <tr>\n",
              "      <th>0</th>\n",
              "      <td>0</td>\n",
              "      <td>1467810672</td>\n",
              "      <td>Mon Apr 06 22:19:49 PDT 2009</td>\n",
              "      <td>NO_QUERY</td>\n",
              "      <td>scotthamilton</td>\n",
              "      <td>is upset that he cant update his facebook by t...</td>\n",
              "    </tr>\n",
              "    <tr>\n",
              "      <th>1</th>\n",
              "      <td>0</td>\n",
              "      <td>1467810917</td>\n",
              "      <td>Mon Apr 06 22:19:53 PDT 2009</td>\n",
              "      <td>NO_QUERY</td>\n",
              "      <td>mattycus</td>\n",
              "      <td>kenichan i dived many times for the ball manag...</td>\n",
              "    </tr>\n",
              "    <tr>\n",
              "      <th>2</th>\n",
              "      <td>0</td>\n",
              "      <td>1467811184</td>\n",
              "      <td>Mon Apr 06 22:19:57 PDT 2009</td>\n",
              "      <td>NO_QUERY</td>\n",
              "      <td>ElleCTF</td>\n",
              "      <td>my whole body feels itchy and like its on fire</td>\n",
              "    </tr>\n",
              "    <tr>\n",
              "      <th>3</th>\n",
              "      <td>0</td>\n",
              "      <td>1467811193</td>\n",
              "      <td>Mon Apr 06 22:19:57 PDT 2009</td>\n",
              "      <td>NO_QUERY</td>\n",
              "      <td>Karoli</td>\n",
              "      <td>nationwideclass no its not behaving at all im ...</td>\n",
              "    </tr>\n",
              "    <tr>\n",
              "      <th>4</th>\n",
              "      <td>0</td>\n",
              "      <td>1467811372</td>\n",
              "      <td>Mon Apr 06 22:20:00 PDT 2009</td>\n",
              "      <td>NO_QUERY</td>\n",
              "      <td>joy_wolf</td>\n",
              "      <td>kwesidei not the whole crew</td>\n",
              "    </tr>\n",
              "  </tbody>\n",
              "</table>\n",
              "</div>"
            ],
            "text/plain": [
              "   target         ids                          date      falg           user  \\\n",
              "0       0  1467810672  Mon Apr 06 22:19:49 PDT 2009  NO_QUERY  scotthamilton   \n",
              "1       0  1467810917  Mon Apr 06 22:19:53 PDT 2009  NO_QUERY       mattycus   \n",
              "2       0  1467811184  Mon Apr 06 22:19:57 PDT 2009  NO_QUERY        ElleCTF   \n",
              "3       0  1467811193  Mon Apr 06 22:19:57 PDT 2009  NO_QUERY         Karoli   \n",
              "4       0  1467811372  Mon Apr 06 22:20:00 PDT 2009  NO_QUERY       joy_wolf   \n",
              "\n",
              "                                                text  \n",
              "0  is upset that he cant update his facebook by t...  \n",
              "1  kenichan i dived many times for the ball manag...  \n",
              "2    my whole body feels itchy and like its on fire   \n",
              "3  nationwideclass no its not behaving at all im ...  \n",
              "4                       kwesidei not the whole crew   "
            ]
          },
          "execution_count": 12,
          "metadata": {},
          "output_type": "execute_result"
        }
      ],
      "source": [
        "PUNCT_TO_REMOVE = string.punctuation\n",
        "def remove_punctuation(text):\n",
        "    return text.translate(str.maketrans('', '', PUNCT_TO_REMOVE))\n",
        "\n",
        "df[\"text\"] = df[\"text\"].apply(lambda text: remove_punctuation(text))\n",
        "df.head()"
      ]
    },
    {
      "cell_type": "code",
      "execution_count": null,
      "metadata": {
        "execution": {
          "iopub.execute_input": "2024-07-22T11:54:47.894269Z",
          "iopub.status.busy": "2024-07-22T11:54:47.893913Z",
          "iopub.status.idle": "2024-07-22T11:54:47.905544Z",
          "shell.execute_reply": "2024-07-22T11:54:47.904307Z",
          "shell.execute_reply.started": "2024-07-22T11:54:47.894240Z"
        },
        "trusted": true,
        "id": "CJCBQrMPbJxQ"
      },
      "outputs": [],
      "source": [
        "stopwords = nltk.corpus.stopwords.words('english')\n",
        "def remove_stopwords(text):\n",
        "    output= [i for i in text if i not in stopwords]\n",
        "    return output"
      ]
    },
    {
      "cell_type": "code",
      "execution_count": null,
      "metadata": {
        "execution": {
          "iopub.execute_input": "2024-07-22T11:54:47.910787Z",
          "iopub.status.busy": "2024-07-22T11:54:47.910162Z",
          "iopub.status.idle": "2024-07-22T11:54:47.918322Z",
          "shell.execute_reply": "2024-07-22T11:54:47.917212Z",
          "shell.execute_reply.started": "2024-07-22T11:54:47.910754Z"
        },
        "trusted": true,
        "id": "H5Pr3L23bJxQ",
        "outputId": "616fd912-ee83-4139-b8ab-9c42003fd06e"
      },
      "outputs": [
        {
          "data": {
            "text/plain": [
              "\"i, me, my, myself, we, our, ours, ourselves, you, you're, you've, you'll, you'd, your, yours, yourself, yourselves, he, him, his, himself, she, she's, her, hers, herself, it, it's, its, itself, they, them, their, theirs, themselves, what, which, who, whom, this, that, that'll, these, those, am, is, are, was, were, be, been, being, have, has, had, having, do, does, did, doing, a, an, the, and, but, if, or, because, as, until, while, of, at, by, for, with, about, against, between, into, through, during, before, after, above, below, to, from, up, down, in, out, on, off, over, under, again, further, then, once, here, there, when, where, why, how, all, any, both, each, few, more, most, other, some, such, no, nor, not, only, own, same, so, than, too, very, s, t, can, will, just, don, don't, should, should've, now, d, ll, m, o, re, ve, y, ain, aren, aren't, couldn, couldn't, didn, didn't, doesn, doesn't, hadn, hadn't, hasn, hasn't, haven, haven't, isn, isn't, ma, mightn, mightn't, mustn, mustn't, needn, needn't, shan, shan't, shouldn, shouldn't, wasn, wasn't, weren, weren't, won, won't, wouldn, wouldn't\""
            ]
          },
          "execution_count": 14,
          "metadata": {},
          "output_type": "execute_result"
        }
      ],
      "source": [
        "from nltk.corpus import stopwords\n",
        "\", \".join(stopwords.words('english'))"
      ]
    },
    {
      "cell_type": "code",
      "execution_count": null,
      "metadata": {
        "execution": {
          "iopub.execute_input": "2024-07-22T11:54:47.920097Z",
          "iopub.status.busy": "2024-07-22T11:54:47.919589Z",
          "iopub.status.idle": "2024-07-22T11:54:53.303554Z",
          "shell.execute_reply": "2024-07-22T11:54:53.302491Z",
          "shell.execute_reply.started": "2024-07-22T11:54:47.920047Z"
        },
        "trusted": true,
        "id": "D_0QZ53HbJxQ",
        "outputId": "846dd97f-11bf-41d4-e6c6-d0c7f89c0b71"
      },
      "outputs": [
        {
          "data": {
            "text/html": [
              "<div>\n",
              "<style scoped>\n",
              "    .dataframe tbody tr th:only-of-type {\n",
              "        vertical-align: middle;\n",
              "    }\n",
              "\n",
              "    .dataframe tbody tr th {\n",
              "        vertical-align: top;\n",
              "    }\n",
              "\n",
              "    .dataframe thead th {\n",
              "        text-align: right;\n",
              "    }\n",
              "</style>\n",
              "<table border=\"1\" class=\"dataframe\">\n",
              "  <thead>\n",
              "    <tr style=\"text-align: right;\">\n",
              "      <th></th>\n",
              "      <th>target</th>\n",
              "      <th>ids</th>\n",
              "      <th>date</th>\n",
              "      <th>falg</th>\n",
              "      <th>user</th>\n",
              "      <th>text</th>\n",
              "    </tr>\n",
              "  </thead>\n",
              "  <tbody>\n",
              "    <tr>\n",
              "      <th>0</th>\n",
              "      <td>0</td>\n",
              "      <td>1467810672</td>\n",
              "      <td>Mon Apr 06 22:19:49 PDT 2009</td>\n",
              "      <td>NO_QUERY</td>\n",
              "      <td>scotthamilton</td>\n",
              "      <td>upset cant update facebook texting might cry r...</td>\n",
              "    </tr>\n",
              "    <tr>\n",
              "      <th>1</th>\n",
              "      <td>0</td>\n",
              "      <td>1467810917</td>\n",
              "      <td>Mon Apr 06 22:19:53 PDT 2009</td>\n",
              "      <td>NO_QUERY</td>\n",
              "      <td>mattycus</td>\n",
              "      <td>kenichan dived many times ball managed save 50...</td>\n",
              "    </tr>\n",
              "    <tr>\n",
              "      <th>2</th>\n",
              "      <td>0</td>\n",
              "      <td>1467811184</td>\n",
              "      <td>Mon Apr 06 22:19:57 PDT 2009</td>\n",
              "      <td>NO_QUERY</td>\n",
              "      <td>ElleCTF</td>\n",
              "      <td>whole body feels itchy like fire</td>\n",
              "    </tr>\n",
              "    <tr>\n",
              "      <th>3</th>\n",
              "      <td>0</td>\n",
              "      <td>1467811193</td>\n",
              "      <td>Mon Apr 06 22:19:57 PDT 2009</td>\n",
              "      <td>NO_QUERY</td>\n",
              "      <td>Karoli</td>\n",
              "      <td>nationwideclass behaving im mad cant see</td>\n",
              "    </tr>\n",
              "    <tr>\n",
              "      <th>4</th>\n",
              "      <td>0</td>\n",
              "      <td>1467811372</td>\n",
              "      <td>Mon Apr 06 22:20:00 PDT 2009</td>\n",
              "      <td>NO_QUERY</td>\n",
              "      <td>joy_wolf</td>\n",
              "      <td>kwesidei whole crew</td>\n",
              "    </tr>\n",
              "  </tbody>\n",
              "</table>\n",
              "</div>"
            ],
            "text/plain": [
              "   target         ids                          date      falg           user  \\\n",
              "0       0  1467810672  Mon Apr 06 22:19:49 PDT 2009  NO_QUERY  scotthamilton   \n",
              "1       0  1467810917  Mon Apr 06 22:19:53 PDT 2009  NO_QUERY       mattycus   \n",
              "2       0  1467811184  Mon Apr 06 22:19:57 PDT 2009  NO_QUERY        ElleCTF   \n",
              "3       0  1467811193  Mon Apr 06 22:19:57 PDT 2009  NO_QUERY         Karoli   \n",
              "4       0  1467811372  Mon Apr 06 22:20:00 PDT 2009  NO_QUERY       joy_wolf   \n",
              "\n",
              "                                                text  \n",
              "0  upset cant update facebook texting might cry r...  \n",
              "1  kenichan dived many times ball managed save 50...  \n",
              "2                   whole body feels itchy like fire  \n",
              "3           nationwideclass behaving im mad cant see  \n",
              "4                                kwesidei whole crew  "
            ]
          },
          "execution_count": 15,
          "metadata": {},
          "output_type": "execute_result"
        }
      ],
      "source": [
        "STOPWORDS = set(stopwords.words('english'))\n",
        "def remove_stopwords(text):\n",
        "    return \" \".join([word for word in str(text).split() if word not in STOPWORDS])\n",
        "\n",
        "df[\"text\"] = df[\"text\"].apply(lambda text: remove_stopwords(text))\n",
        "df.head()"
      ]
    },
    {
      "cell_type": "code",
      "execution_count": null,
      "metadata": {
        "execution": {
          "iopub.execute_input": "2024-07-22T11:54:53.305136Z",
          "iopub.status.busy": "2024-07-22T11:54:53.304781Z",
          "iopub.status.idle": "2024-07-22T11:54:57.318232Z",
          "shell.execute_reply": "2024-07-22T11:54:57.316988Z",
          "shell.execute_reply.started": "2024-07-22T11:54:53.305109Z"
        },
        "trusted": true,
        "id": "wBwxiKnZbJxQ",
        "outputId": "3dbaccde-c006-4bf9-fdf0-ccad3e951caa"
      },
      "outputs": [
        {
          "data": {
            "text/plain": [
              "0          upset cant update facebook texting might cry r...\n",
              "1          kenichan dived many times ball managed save  r...\n",
              "2                           whole body feels itchy like fire\n",
              "3                   nationwideclass behaving im mad cant see\n",
              "4                                        kwesidei whole crew\n",
              "                                 ...                        \n",
              "1599994                        woke school best feeling ever\n",
              "1599995    thewdbcom cool hear old walt interviews â« ht...\n",
              "1599996                      ready mojo makeover ask details\n",
              "1599997    happy th birthday boo alll time tupac amaru sh...\n",
              "1599998    happy charitytuesday thenspcc sparkscharity sp...\n",
              "Name: text, Length: 1599999, dtype: object"
            ]
          },
          "execution_count": 16,
          "metadata": {},
          "output_type": "execute_result"
        }
      ],
      "source": [
        "df[\"text\"] = df[\"text\"].apply(lambda x: re.sub(r'\\d+', '', str(x))) #remove numbers change line 2\n",
        "df[\"text\"]"
      ]
    },
    {
      "cell_type": "code",
      "execution_count": null,
      "metadata": {
        "execution": {
          "iopub.execute_input": "2024-07-22T11:54:57.320366Z",
          "iopub.status.busy": "2024-07-22T11:54:57.320001Z",
          "iopub.status.idle": "2024-07-22T11:54:59.662911Z",
          "shell.execute_reply": "2024-07-22T11:54:59.661762Z",
          "shell.execute_reply.started": "2024-07-22T11:54:57.320335Z"
        },
        "trusted": true,
        "id": "ElKXqtEwbJxQ",
        "outputId": "beb714e4-5d92-4da1-e1a3-837c3e242143"
      },
      "outputs": [
        {
          "data": {
            "text/plain": [
              "0          upset cant update facebook texting might cry r...\n",
              "1          kenichan dived many times ball managed save  r...\n",
              "2                           whole body feels itchy like fire\n",
              "3                   nationwideclass behaving im mad cant see\n",
              "4                                        kwesidei whole crew\n",
              "                                 ...                        \n",
              "1599994                        woke school best feeling ever\n",
              "1599995    thewdbcom cool hear old walt interviews  httpb...\n",
              "1599996                      ready mojo makeover ask details\n",
              "1599997    happy th birthday boo alll time tupac amaru sh...\n",
              "1599998    happy charitytuesday thenspcc sparkscharity sp...\n",
              "Name: text, Length: 1599999, dtype: object"
            ]
          },
          "execution_count": 17,
          "metadata": {},
          "output_type": "execute_result"
        }
      ],
      "source": [
        "df[\"text\"] = df[\"text\"].apply(lambda x: re.sub(r'[^\\x00-\\x7F]', '', str(x))) #remove non-english word\n",
        "df[\"text\"]"
      ]
    },
    {
      "cell_type": "code",
      "execution_count": null,
      "metadata": {
        "execution": {
          "iopub.execute_input": "2024-07-22T11:54:59.664544Z",
          "iopub.status.busy": "2024-07-22T11:54:59.664193Z",
          "iopub.status.idle": "2024-07-22T11:55:04.722761Z",
          "shell.execute_reply": "2024-07-22T11:55:04.721578Z",
          "shell.execute_reply.started": "2024-07-22T11:54:59.664514Z"
        },
        "trusted": true,
        "id": "bQPudZJ0bJxQ",
        "outputId": "250b79cf-66b5-4aff-e06c-6b8ffd9c7be9"
      },
      "outputs": [
        {
          "data": {
            "text/plain": [
              "0          [upset cant update facebook texting might cry ...\n",
              "1          [kenichan dived many times ball managed save  ...\n",
              "2                         [whole body feels itchy like fire]\n",
              "3                 [nationwideclass behaving im mad cant see]\n",
              "4                                      [kwesidei whole crew]\n",
              "                                 ...                        \n",
              "1599994                      [woke school best feeling ever]\n",
              "1599995    [thewdbcom cool hear old walt interviews  http...\n",
              "1599996                    [ready mojo makeover ask details]\n",
              "1599997    [happy th birthday boo alll time tupac amaru s...\n",
              "1599998    [happy charitytuesday thenspcc sparkscharity s...\n",
              "Name: text, Length: 1599999, dtype: object"
            ]
          },
          "execution_count": 18,
          "metadata": {},
          "output_type": "execute_result"
        }
      ],
      "source": [
        "def tokenization(text):\n",
        "    tokens = re.split('W+',text)\n",
        "    return tokens\n",
        "df['text'] = df['text'].apply(lambda x: tokenization(x))\n",
        "df['text']"
      ]
    },
    {
      "cell_type": "code",
      "execution_count": null,
      "metadata": {
        "execution": {
          "iopub.execute_input": "2024-07-22T11:55:04.724867Z",
          "iopub.status.busy": "2024-07-22T11:55:04.724424Z",
          "iopub.status.idle": "2024-07-22T11:55:04.730915Z",
          "shell.execute_reply": "2024-07-22T11:55:04.729466Z",
          "shell.execute_reply.started": "2024-07-22T11:55:04.724828Z"
        },
        "trusted": true,
        "id": "PdB925gAbJxQ"
      },
      "outputs": [],
      "source": [
        "stemmer = PorterStemmer()\n",
        "def apply_stemming(word_list):\n",
        "    stem_words = [stemmer.stem(word) for word in word_list]\n",
        "    return stem_words"
      ]
    },
    {
      "cell_type": "code",
      "execution_count": null,
      "metadata": {
        "execution": {
          "iopub.execute_input": "2024-07-22T11:55:04.733052Z",
          "iopub.status.busy": "2024-07-22T11:55:04.732588Z",
          "iopub.status.idle": "2024-07-22T11:55:57.174188Z",
          "shell.execute_reply": "2024-07-22T11:55:57.173209Z",
          "shell.execute_reply.started": "2024-07-22T11:55:04.733009Z"
        },
        "trusted": true,
        "id": "zhY-RtP9bJxQ",
        "outputId": "a778c4e9-8386-4335-d8a6-6618db245b89"
      },
      "outputs": [
        {
          "data": {
            "text/plain": [
              "0          [upset cant update facebook texting might cry ...\n",
              "1          [kenichan dived many times ball managed save  ...\n",
              "2                          [whole body feels itchy like fir]\n",
              "3                  [nationwideclass behaving im mad cant se]\n",
              "4                                      [kwesidei whole crew]\n",
              "                                 ...                        \n",
              "1599994                        [woke school best feeling ev]\n",
              "1599995    [thewdbcom cool hear old walt interviews  http...\n",
              "1599996                     [ready mojo makeover ask detail]\n",
              "1599997    [happy th birthday boo alll time tupac amaru s...\n",
              "1599998    [happy charitytuesday thenspcc sparkscharity s...\n",
              "Name: text, Length: 1599999, dtype: object"
            ]
          },
          "execution_count": 20,
          "metadata": {},
          "output_type": "execute_result"
        }
      ],
      "source": [
        "df['text'] = df['text'].apply(apply_stemming)\n",
        "df['text']"
      ]
    },
    {
      "cell_type": "code",
      "execution_count": null,
      "metadata": {
        "execution": {
          "iopub.execute_input": "2024-07-22T11:55:57.175736Z",
          "iopub.status.busy": "2024-07-22T11:55:57.175425Z",
          "iopub.status.idle": "2024-07-22T11:55:57.180683Z",
          "shell.execute_reply": "2024-07-22T11:55:57.179490Z",
          "shell.execute_reply.started": "2024-07-22T11:55:57.175710Z"
        },
        "trusted": true,
        "id": "odzcQVorbJxQ"
      },
      "outputs": [],
      "source": [
        "x = df['text']\n",
        "y = df['target']"
      ]
    },
    {
      "cell_type": "code",
      "execution_count": null,
      "metadata": {
        "execution": {
          "iopub.execute_input": "2024-07-22T11:55:57.183213Z",
          "iopub.status.busy": "2024-07-22T11:55:57.182786Z",
          "iopub.status.idle": "2024-07-22T11:55:57.517278Z",
          "shell.execute_reply": "2024-07-22T11:55:57.516013Z",
          "shell.execute_reply.started": "2024-07-22T11:55:57.183154Z"
        },
        "trusted": true,
        "id": "Te0WCIXybJxQ"
      },
      "outputs": [],
      "source": [
        "X_train, X_test, y_train, y_test = train_test_split(x, y, test_size=0.2, random_state=42)"
      ]
    },
    {
      "cell_type": "code",
      "execution_count": null,
      "metadata": {
        "execution": {
          "iopub.execute_input": "2024-07-22T11:55:57.518811Z",
          "iopub.status.busy": "2024-07-22T11:55:57.518503Z",
          "iopub.status.idle": "2024-07-22T11:55:57.608373Z",
          "shell.execute_reply": "2024-07-22T11:55:57.607233Z",
          "shell.execute_reply.started": "2024-07-22T11:55:57.518786Z"
        },
        "trusted": true,
        "id": "CNIXxSjEbJxQ"
      },
      "outputs": [],
      "source": [
        "label_encoder = LabelEncoder()\n",
        "y_train = label_encoder.fit_transform(y_train)\n",
        "y_test = label_encoder.fit_transform(y_test)"
      ]
    },
    {
      "cell_type": "code",
      "execution_count": null,
      "metadata": {
        "execution": {
          "iopub.execute_input": "2024-07-22T11:55:57.609853Z",
          "iopub.status.busy": "2024-07-22T11:55:57.609531Z",
          "iopub.status.idle": "2024-07-22T11:55:58.511840Z",
          "shell.execute_reply": "2024-07-22T11:55:58.510734Z",
          "shell.execute_reply.started": "2024-07-22T11:55:57.609826Z"
        },
        "trusted": true,
        "id": "0QJbyBxhbJxQ"
      },
      "outputs": [],
      "source": [
        "# Preprocess the input data\n",
        "X_train = [' '.join(x) for x in X_train]\n",
        "X_test = [' '.join(x) for x in X_test]"
      ]
    },
    {
      "cell_type": "code",
      "execution_count": null,
      "metadata": {
        "execution": {
          "iopub.execute_input": "2024-07-22T11:55:58.513538Z",
          "iopub.status.busy": "2024-07-22T11:55:58.513129Z",
          "iopub.status.idle": "2024-07-22T11:56:19.855231Z",
          "shell.execute_reply": "2024-07-22T11:56:19.854054Z",
          "shell.execute_reply.started": "2024-07-22T11:55:58.513502Z"
        },
        "trusted": true,
        "id": "oU_FrwaabJxQ"
      },
      "outputs": [],
      "source": [
        "vectorizer = TfidfVectorizer()\n",
        "x_train_tfidf = vectorizer.fit_transform(X_train)\n",
        "x_test_tfidf = vectorizer.transform(X_test)"
      ]
    },
    {
      "cell_type": "code",
      "execution_count": null,
      "metadata": {
        "execution": {
          "iopub.execute_input": "2024-07-22T11:56:19.856771Z",
          "iopub.status.busy": "2024-07-22T11:56:19.856417Z",
          "iopub.status.idle": "2024-07-22T11:56:20.316922Z",
          "shell.execute_reply": "2024-07-22T11:56:20.315825Z",
          "shell.execute_reply.started": "2024-07-22T11:56:19.856726Z"
        },
        "trusted": true,
        "id": "JUa8F5sZbJxQ",
        "outputId": "0f727224-8af2-46ca-d460-5fc0a085dfef"
      },
      "outputs": [
        {
          "data": {
            "text/html": [
              "<style>#sk-container-id-1 {color: black;background-color: white;}#sk-container-id-1 pre{padding: 0;}#sk-container-id-1 div.sk-toggleable {background-color: white;}#sk-container-id-1 label.sk-toggleable__label {cursor: pointer;display: block;width: 100%;margin-bottom: 0;padding: 0.3em;box-sizing: border-box;text-align: center;}#sk-container-id-1 label.sk-toggleable__label-arrow:before {content: \"▸\";float: left;margin-right: 0.25em;color: #696969;}#sk-container-id-1 label.sk-toggleable__label-arrow:hover:before {color: black;}#sk-container-id-1 div.sk-estimator:hover label.sk-toggleable__label-arrow:before {color: black;}#sk-container-id-1 div.sk-toggleable__content {max-height: 0;max-width: 0;overflow: hidden;text-align: left;background-color: #f0f8ff;}#sk-container-id-1 div.sk-toggleable__content pre {margin: 0.2em;color: black;border-radius: 0.25em;background-color: #f0f8ff;}#sk-container-id-1 input.sk-toggleable__control:checked~div.sk-toggleable__content {max-height: 200px;max-width: 100%;overflow: auto;}#sk-container-id-1 input.sk-toggleable__control:checked~label.sk-toggleable__label-arrow:before {content: \"▾\";}#sk-container-id-1 div.sk-estimator input.sk-toggleable__control:checked~label.sk-toggleable__label {background-color: #d4ebff;}#sk-container-id-1 div.sk-label input.sk-toggleable__control:checked~label.sk-toggleable__label {background-color: #d4ebff;}#sk-container-id-1 input.sk-hidden--visually {border: 0;clip: rect(1px 1px 1px 1px);clip: rect(1px, 1px, 1px, 1px);height: 1px;margin: -1px;overflow: hidden;padding: 0;position: absolute;width: 1px;}#sk-container-id-1 div.sk-estimator {font-family: monospace;background-color: #f0f8ff;border: 1px dotted black;border-radius: 0.25em;box-sizing: border-box;margin-bottom: 0.5em;}#sk-container-id-1 div.sk-estimator:hover {background-color: #d4ebff;}#sk-container-id-1 div.sk-parallel-item::after {content: \"\";width: 100%;border-bottom: 1px solid gray;flex-grow: 1;}#sk-container-id-1 div.sk-label:hover label.sk-toggleable__label {background-color: #d4ebff;}#sk-container-id-1 div.sk-serial::before {content: \"\";position: absolute;border-left: 1px solid gray;box-sizing: border-box;top: 0;bottom: 0;left: 50%;z-index: 0;}#sk-container-id-1 div.sk-serial {display: flex;flex-direction: column;align-items: center;background-color: white;padding-right: 0.2em;padding-left: 0.2em;position: relative;}#sk-container-id-1 div.sk-item {position: relative;z-index: 1;}#sk-container-id-1 div.sk-parallel {display: flex;align-items: stretch;justify-content: center;background-color: white;position: relative;}#sk-container-id-1 div.sk-item::before, #sk-container-id-1 div.sk-parallel-item::before {content: \"\";position: absolute;border-left: 1px solid gray;box-sizing: border-box;top: 0;bottom: 0;left: 50%;z-index: -1;}#sk-container-id-1 div.sk-parallel-item {display: flex;flex-direction: column;z-index: 1;position: relative;background-color: white;}#sk-container-id-1 div.sk-parallel-item:first-child::after {align-self: flex-end;width: 50%;}#sk-container-id-1 div.sk-parallel-item:last-child::after {align-self: flex-start;width: 50%;}#sk-container-id-1 div.sk-parallel-item:only-child::after {width: 0;}#sk-container-id-1 div.sk-dashed-wrapped {border: 1px dashed gray;margin: 0 0.4em 0.5em 0.4em;box-sizing: border-box;padding-bottom: 0.4em;background-color: white;}#sk-container-id-1 div.sk-label label {font-family: monospace;font-weight: bold;display: inline-block;line-height: 1.2em;}#sk-container-id-1 div.sk-label-container {text-align: center;}#sk-container-id-1 div.sk-container {/* jupyter's `normalize.less` sets `[hidden] { display: none; }` but bootstrap.min.css set `[hidden] { display: none !important; }` so we also need the `!important` here to be able to override the default hidden behavior on the sphinx rendered scikit-learn.org. See: https://github.com/scikit-learn/scikit-learn/issues/21755 */display: inline-block !important;position: relative;}#sk-container-id-1 div.sk-text-repr-fallback {display: none;}</style><div id=\"sk-container-id-1\" class=\"sk-top-container\"><div class=\"sk-text-repr-fallback\"><pre>MultinomialNB()</pre><b>In a Jupyter environment, please rerun this cell to show the HTML representation or trust the notebook. <br />On GitHub, the HTML representation is unable to render, please try loading this page with nbviewer.org.</b></div><div class=\"sk-container\" hidden><div class=\"sk-item\"><div class=\"sk-estimator sk-toggleable\"><input class=\"sk-toggleable__control sk-hidden--visually\" id=\"sk-estimator-id-1\" type=\"checkbox\" checked><label for=\"sk-estimator-id-1\" class=\"sk-toggleable__label sk-toggleable__label-arrow\">MultinomialNB</label><div class=\"sk-toggleable__content\"><pre>MultinomialNB()</pre></div></div></div></div></div>"
            ],
            "text/plain": [
              "MultinomialNB()"
            ]
          },
          "execution_count": 26,
          "metadata": {},
          "output_type": "execute_result"
        }
      ],
      "source": [
        "model = MultinomialNB()\n",
        "model.fit(x_train_tfidf, y_train)"
      ]
    },
    {
      "cell_type": "code",
      "execution_count": null,
      "metadata": {
        "execution": {
          "iopub.execute_input": "2024-07-22T11:56:20.318584Z",
          "iopub.status.busy": "2024-07-22T11:56:20.318245Z",
          "iopub.status.idle": "2024-07-22T11:56:20.559354Z",
          "shell.execute_reply": "2024-07-22T11:56:20.558238Z",
          "shell.execute_reply.started": "2024-07-22T11:56:20.318556Z"
        },
        "trusted": true,
        "id": "PxtnqPMObJxQ"
      },
      "outputs": [],
      "source": [
        "pred_train = model.predict(x_train_tfidf)\n",
        "pred_test = model.predict(x_test_tfidf)"
      ]
    },
    {
      "cell_type": "code",
      "execution_count": null,
      "metadata": {
        "execution": {
          "iopub.execute_input": "2024-07-22T11:56:20.561067Z",
          "iopub.status.busy": "2024-07-22T11:56:20.560653Z",
          "iopub.status.idle": "2024-07-22T11:56:20.745812Z",
          "shell.execute_reply": "2024-07-22T11:56:20.744509Z",
          "shell.execute_reply.started": "2024-07-22T11:56:20.561029Z"
        },
        "trusted": true,
        "id": "kgrY_UGYbJxR",
        "outputId": "6d1ed6d9-b65b-41bc-fe6c-ad69cee48fac"
      },
      "outputs": [
        {
          "data": {
            "text/plain": [
              "0.762809375"
            ]
          },
          "execution_count": 28,
          "metadata": {},
          "output_type": "execute_result"
        }
      ],
      "source": [
        "accuracy_train = accuracy_score(y_train, pred_train)\n",
        "accuracy_test = accuracy_score(y_test, pred_test)\n",
        "accuracy_test"
      ]
    },
    {
      "cell_type": "code",
      "execution_count": null,
      "metadata": {
        "execution": {
          "iopub.execute_input": "2024-07-22T11:56:20.747851Z",
          "iopub.status.busy": "2024-07-22T11:56:20.747489Z",
          "iopub.status.idle": "2024-07-22T11:56:21.410065Z",
          "shell.execute_reply": "2024-07-22T11:56:21.408706Z",
          "shell.execute_reply.started": "2024-07-22T11:56:20.747821Z"
        },
        "trusted": true,
        "id": "feWw9hSmbJxR",
        "outputId": "7990bb5d-24d1-43bb-9d1a-53f73a23298f"
      },
      "outputs": [
        {
          "name": "stdout",
          "output_type": "stream",
          "text": [
            "Classification Report:\n",
            "              precision    recall  f1-score   support\n",
            "\n",
            "           0       0.74      0.81      0.77    159494\n",
            "           1       0.79      0.72      0.75    160506\n",
            "\n",
            "    accuracy                           0.76    320000\n",
            "   macro avg       0.76      0.76      0.76    320000\n",
            "weighted avg       0.76      0.76      0.76    320000\n",
            "\n"
          ]
        }
      ],
      "source": [
        "report_nv = classification_report(y_test, pred_test)\n",
        "\n",
        "print(\"Classification Report:\")\n",
        "print(report_nv)"
      ]
    }
  ],
  "metadata": {
    "kaggle": {
      "accelerator": "none",
      "dataSources": [
        {
          "datasetId": 2477,
          "sourceId": 4140,
          "sourceType": "datasetVersion"
        }
      ],
      "dockerImageVersionId": 30732,
      "isGpuEnabled": false,
      "isInternetEnabled": true,
      "language": "python",
      "sourceType": "notebook"
    },
    "kernelspec": {
      "display_name": "Python 3",
      "language": "python",
      "name": "python3"
    },
    "language_info": {
      "codemirror_mode": {
        "name": "ipython",
        "version": 3
      },
      "file_extension": ".py",
      "mimetype": "text/x-python",
      "name": "python",
      "nbconvert_exporter": "python",
      "pygments_lexer": "ipython3",
      "version": "3.10.13"
    },
    "colab": {
      "provenance": []
    }
  },
  "nbformat": 4,
  "nbformat_minor": 0
}