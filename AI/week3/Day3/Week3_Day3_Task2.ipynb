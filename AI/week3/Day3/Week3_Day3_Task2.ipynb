{
  "nbformat": 4,
  "nbformat_minor": 0,
  "metadata": {
    "colab": {
      "provenance": []
    },
    "kernelspec": {
      "name": "python3",
      "display_name": "Python 3"
    },
    "language_info": {
      "name": "python"
    }
  },
  "cells": [
    {
      "cell_type": "markdown",
      "source": [
        "# Object Detection\n",
        "\n",
        "Create a YOLO detcetion model. You have to:\n",
        "- Collect your dataset\n",
        "- Anotatet the dataset.\n",
        "- Train the model.\n",
        "- Plot samples of the detected objects.\n",
        "\n",
        "Yolov8: https://www.bing.com/videos/riverview/relatedvideo?q=yolov8+dataset&mid=0CA64671D4B0B98809660CA64671D4B0B9880966&FORM=VIRE"
      ],
      "metadata": {
        "id": "mpWuzjEladdg"
      }
    },
    {
      "cell_type": "markdown",
      "source": [
        "# The solution done using Roboflow tool"
      ],
      "metadata": {
        "id": "YkqXDymCLuNh"
      }
    }
  ]
}